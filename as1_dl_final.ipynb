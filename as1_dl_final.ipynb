{
 "cells": [
  {
   "cell_type": "code",
   "execution_count": 194,
   "id": "878c37d5",
   "metadata": {},
   "outputs": [],
   "source": [
    "from tensorflow import keras\n",
    "from keras.datasets import fashion_mnist,mnist\n",
    "import numpy as np\n",
    "from sklearn.preprocessing import OneHotEncoder\n",
    "from sklearn.utils import shuffle\n",
    "from sklearn.metrics import accuracy_score\n",
    "from sklearn.model_selection import train_test_split\n",
    "import math\n",
    "import pprint\n",
    "import wandb"
   ]
  },
  {
   "cell_type": "code",
   "execution_count": 2,
   "id": "7669051c",
   "metadata": {},
   "outputs": [
    {
     "name": "stderr",
     "output_type": "stream",
     "text": [
      "wandb: Currently logged in as: as1_dl (use `wandb login --relogin` to force relogin)\n"
     ]
    },
    {
     "data": {
      "text/plain": [
       "True"
      ]
     },
     "execution_count": 2,
     "metadata": {},
     "output_type": "execute_result"
    }
   ],
   "source": [
    "wandb.login() "
   ]
  },
  {
   "cell_type": "code",
   "execution_count": 199,
   "id": "ef4dd4f9",
   "metadata": {},
   "outputs": [],
   "source": [
    "def batch_split(batch_size,X_train,Y_train,X_test,Y_test): #Split the data into batches\n",
    "    x_train, y_train_cat = shuffle(X_train,Y_train)\n",
    "    x_test,y_test=shuffle(X_test,Y_test)\n",
    "    x_train = x_train.reshape(x_train.shape[0],784)\n",
    "    x_test = x_test.reshape(x_test.shape[0],784)\n",
    "    x_train, x_valid, y_train, y_valid = train_test_split(x_train, y_train_cat, test_size=0.1)\n",
    "    x_train=x_train/np.max(x_train)\n",
    "    x_train_raw=x_train\n",
    "    x_test=x_test/np.max(x_test)\n",
    "    x_valid=x_valid/np.max(x_valid)\n",
    "    #y_train=y_train.reshape(len(y_train), 1)\n",
    "    enc=OneHotEncoder(sparse=False)\n",
    "    y_train_enc = enc.fit_transform(np.array(y_train.reshape(len(y_train), 1)))\n",
    "    y_test_enc = enc.fit_transform(np.array(y_test.reshape(len(y_test), 1)))\n",
    "    y_valid_enc = enc.fit_transform(np.array(y_valid.reshape(len(y_valid), 1)))\n",
    "    y_train_bs=[]\n",
    "    x_train_bs=[]\n",
    "    if x_train.shape[0]%batch_size==0: #When all the batch sizes can be equal\n",
    "        x_train_bs=np.vsplit(x_train,int(x_train.shape[0]/batch_size))\n",
    "        y_train_bs=np.vsplit(y_train_enc,int(x_train.shape[0]/batch_size))\n",
    "    else: #When all the batch sizes except one are be equal\n",
    "        x_train_bs=np.vsplit(x_train[0:x_train.shape[0]-x_train.shape[0]%batch_size],math.floor(x_train[0:x_train.shape[0]-x_train.shape[0]%batch_size].shape[0]/batch_size))\n",
    "        x_train_bs.append(x_train[x_train.shape[0]-x_train.shape[0]%batch_size:x_train.shape[0]])\n",
    "        y_train_bs=np.vsplit(y_train_enc[0:x_train.shape[0]-x_train.shape[0]%batch_size],math.floor(x_train[0:x_train.shape[0]-x_train.shape[0]%batch_size].shape[0]/batch_size))\n",
    "        y_train_bs.append(y_train_enc[x_train.shape[0]-x_train.shape[0]%batch_size:x_train.shape[0]])\n",
    "    return x_train_raw,x_train_bs,y_train,y_train_bs,y_train_enc,x_test,y_test,y_test_enc,x_valid,y_valid,y_valid_enc\n",
    "\n",
    "def activ_func(x,act_func):  #activation function \n",
    "    if act_func=='logistic':\n",
    "        log_func =1 / (1 + np.exp(-x))\n",
    "        return log_func\n",
    "    elif act_func=='tanh':\n",
    "        return np.tanh(x)\n",
    "    elif act_func=='relu':\n",
    "        return np.maximum(x, 0)\n",
    "    \n",
    "def d_activ_func(x,act_func): #derivative of the activation function\n",
    "    if act_func=='logistic':\n",
    "        return activ_func(x,act_func)*(1-activ_func(x,act_func))\n",
    "    elif act_func=='tanh':\n",
    "        return 1-np.square(activ_func(x,act_func))\n",
    "    elif act_func=='relu':\n",
    "        return (x > 0) * 1\n",
    "\n",
    "def func_softmax(x): #output function as softmax\n",
    "    sf=[]\n",
    "    e_x = np.exp(x)\n",
    "    for i in range(x.shape[1]):\n",
    "        sf.append(e_x[:,i]/np.sum(e_x[:,i]))\n",
    "    return sf\n",
    "\n",
    "def compute_loss(y_predicted,y,w,loss_func,lam): \n",
    "    samp=len(y)\n",
    "    loss=0\n",
    "    loss_w=0 #loss from the regularisation\n",
    "    for i in range(len(w)):\n",
    "        loss_w=loss_w+(lam*(np.sum(np.square(w[i])))/(2*samp))\n",
    "    if loss_func=='cross_entropy':\n",
    "        for i in range(samp):\n",
    "            loss=loss+np.divide(-np.dot(np.log(y_predicted[i]),np.transpose(y[i])),samp)\n",
    "    elif loss_func=='sq_error':    \n",
    "        for i in range(samp):\n",
    "            loss=loss+np.divide(np.sum(np.square(y_predicted[i]-y[i])),samp)\n",
    "    return loss+loss_w\n",
    "\n",
    "def initialize_params(no_hidden,size_hidden,spec): #initialises weights and biases\n",
    "    mf=1e-2 #using this multiplication factor gives a much better performance. standard random weights are just too damn big\n",
    "    input_size=784\n",
    "    no_output=10\n",
    "    if spec=='xv':    #xavier initialisation\n",
    "        sd = 6/(size_hidden[0]+input_size)\n",
    "        w=[]\n",
    "        b=[]       \n",
    "        w.append(np.random.uniform(low = -sd ,high = sd, size =(size_hidden[0], input_size)))\n",
    "        b.append(np.random.uniform(low = -sd ,high = sd, size = (size_hidden[0],1)))\n",
    "        for i in range(no_hidden-1):\n",
    "            sd = 6/(size_hidden[i+1]+size_hidden[i]    \n",
    "            w.append(np.random.uniform(low = -sd ,high = sd, size =(size_hidden[i+1],size_hidden[i])))\n",
    "            b.append(np.random.uniform(low = -sd ,high = sd, size = (size_hidden[i+1],1)))\n",
    "        sd = 6/(size_hidden[no_hidden]+no_output)    \n",
    "        w.append(np.random.uniform(low = -sd ,high = sd, size =(no_output,size_hidden[-1])))\n",
    "        b.append(np.random.uniform(low = -sd ,high = sd, size = (no_output,1)))\n",
    "        return w,b\n",
    "    \n",
    "    elif spec=='rand':    #random initialisation\n",
    "        w=[]\n",
    "        w.append(mf*np.random.rand(size_hidden[0],input_size))\n",
    "        b=[]\n",
    "        b.append(mf*np.random.rand(size_hidden[0],1))\n",
    "        for i in range(no_hidden-1):\n",
    "            w.append(mf*np.random.rand(size_hidden[i+1],size_hidden[i]))\n",
    "            b.append(mf*np.random.rand(size_hidden[i+1],1)) \n",
    "        w.append(mf*np.random.rand(no_output,size_hidden[-1]))\n",
    "        b.append(mf*np.random.rand(no_output,1))\n",
    "        return w,b\n",
    "    \n",
    "def forward_prop(x,w,b,act_func,no_hidden): #forward propogation\n",
    "    a=[] #pre activation\n",
    "    h=[] #activation\n",
    "    h.append(x.T)\n",
    "    for i in range(no_hidden):\n",
    "        a.append(np.dot(w[i],h[i])+b[i])\n",
    "        h.append(activ_func(a[i],act_func))\n",
    "    a_f=np.dot(w[no_hidden],h[no_hidden])+b[no_hidden]\n",
    "    y_pred=func_softmax(a_f)\n",
    "    return a,h,a_f,y_pred\n",
    "\n",
    "def backward_prop(y,y_pred,w,b,h,a,a_f,no_hidden,lam,act_func,loss_func): #back propogation\n",
    "    grad_a=[None]*(no_hidden+1)#gradient of the pre-activation function \n",
    "    grad_w=[None]*(no_hidden+1)#gradient of the weights\n",
    "    grad_b=[None]*(no_hidden+1)#gradient of the biases\n",
    "    grad_h=[None]*(no_hidden)# gradient of the activation function\n",
    "    num=len(y)\n",
    "    num2=y.shape[0]\n",
    "    if loss_func=='cross_entropy':\n",
    "        grad_a[no_hidden]=-(y-y_pred)\n",
    "    elif loss_func=='sq_error':\n",
    "        grad=np.zeros((num,10))\n",
    "        ydot=np.empty(num)\n",
    "        for i in range(num2):\n",
    "            ydot[i]=np.dot(y[i],y_pred[i])\n",
    "            #ydot[i]=y[i]*y_pred[i]\n",
    "            grad[i]=(y_pred[i]-y[i])*ydot[i]*(y[i]-y_pred[i])\n",
    "        #grad_a[no_hidden]=(y-y_pred)*y_pred*(1-y_pred)\n",
    "        grad_a[no_hidden]=grad\n",
    "    for k in range(no_hidden,-1,-1):\n",
    "        grad_w[k]=np.divide(np.dot(h[k],grad_a[k]),num)+np.divide((lam*w[k].T),num)#gradient of the weights\n",
    "        grad_b[k]= np.divide(np.sum(grad_a[k], axis=0, keepdims=True),num) #gradient of the biases\n",
    "        if k >= 1:\n",
    "            grad_h[k-1]=np.dot(grad_a[k],w[k])\n",
    "            grad_a[k-1]=grad_h[k-1]*d_activ_func(a[k-1].T,act_func)\n",
    "    return grad_b,grad_w\n",
    "\n",
    "def sg_mb_update(w,b,grad_w,grad_b,learning_rate,no_hidden): #minibatch gradient descent\n",
    "    for i in range(no_hidden+1):\n",
    "        w[i]=w[i]-(learning_rate*grad_w[i].T)\n",
    "        b[i]=b[i]-(learning_rate*grad_b[i].T)\n",
    "    return w,b\n",
    "\n",
    "def momentum_update(w,b,grad_w,grad_b,learning_rate,update_w,update_b,no_hidden): #momentum based graddient descent\n",
    "    sum_w=[i * 0 for i in w]\n",
    "    sum_b=[i * 0 for i in b]\n",
    "    gamma=0.9\n",
    "    for i in range(no_hidden+1):\n",
    "        sum_w[i]=gamma*update_w[i]+learning_rate*grad_w[i].T\n",
    "        sum_b[i]=gamma*update_b[i]+learning_rate*grad_b[i].T\n",
    "        w[i]=w[i]-sum_w[i]\n",
    "        b[i]=b[i]-sum_b[i]\n",
    "    update_w=sum_w\n",
    "    update_b=sum_b\n",
    "    return w,b,update_w,update_b\n",
    "\n",
    "def nag_lookahead(w,b,learning_rate,update_w,update_b,no_hidden): #estimate the gradients of the lookahead point in NAG\n",
    "    for i in range(no_hidden+1):\n",
    "        w[i]=w[i]-learning_rate*update_w[i]\n",
    "        b[i]=b[i]-learning_rate*update_b[i]\n",
    "    return w,b\n",
    "\n",
    "def nag_update(w,b,grad_w,grad_b,learning_rate,update_w,update_b,no_hidden): #final gradient update in NAG\n",
    "    gamma=0.9\n",
    "    sum_w=[i * 0 for i in w]\n",
    "    sum_b=[i * 0 for i in b]\n",
    "    for i in range(no_hidden+1):\n",
    "        sum_w[i]=gamma*update_w[i]+learning_rate*grad_w[i].T\n",
    "        sum_b[i]=gamma*update_b[i]+learning_rate*grad_b[i].T\n",
    "        w[i]=w[i]-sum_w[i]\n",
    "        b[i]=b[i]-sum_b[i]\n",
    "    update_w=sum_w\n",
    "    update_b=sum_b\n",
    "    return w,b,update_w,update_b\n",
    "\n",
    "def rmsprop_update(w,b,grad_w,grad_b,learning_rate,v_w,v_b,no_hidden): #RMSprop\n",
    "    beta=0.9\n",
    "    epsilon=1e-8\n",
    "    sum_w=[i * 0 for i in w]\n",
    "    sum_b=[i * 0 for i in b]\n",
    "    for i in range(no_hidden+1):\n",
    "        sum_w[i]=beta*v_w[i]+(1-beta)*(np.square(grad_w[i].T))\n",
    "        sum_b[i]=beta*v_b[i]+(1-beta)*(np.square(grad_b[i].T))\n",
    "        w[i]=w[i]-learning_rate*np.divide(grad_w[i].T,np.sqrt(sum_w[i]+epsilon))\n",
    "        b[i]=b[i]-learning_rate*np.divide(grad_b[i].T,np.sqrt(sum_b[i]+epsilon))\n",
    "    v_w=sum_w\n",
    "    v_b=sum_b\n",
    "    return w,b,v_w,v_b\n",
    "\n",
    "def adam_update(w,b,grad_w,grad_b,learning_rate,v_w,v_b,m_w,m_b,ct,no_hidden): #Adam optimisation\n",
    "    beta_1=0.9\n",
    "    beta_2=0.99\n",
    "    epsilon=1e-8\n",
    "    sum_w_m=[i * 0 for i in w]\n",
    "    sum_w_v=[i * 0 for i in w]\n",
    "    sum_b_m=[i * 0 for i in b]\n",
    "    sum_b_v=[i * 0 for i in b]\n",
    "    m_cap_w=[i * 0 for i in w]\n",
    "    m_cap_b=[i * 0 for i in b]\n",
    "    v_cap_w=[i * 0 for i in w]\n",
    "    v_cap_b=[i * 0 for i in b]\n",
    "    for i in range(no_hidden+1):\n",
    "        sum_w_m[i]=beta_1*m_w[i]+(1-beta_1)*grad_w[i].T\n",
    "        sum_w_v[i]=beta_2*v_w[i]+(1-beta_2)*(np.square(grad_w[i].T))\n",
    "\n",
    "        sum_b_m[i]=beta_1*m_b[i]+(1-beta_1)*grad_b[i].T\n",
    "        sum_b_v[i]=beta_2*v_b[i]+(1-beta_2)*(np.square(grad_b[i].T))\n",
    "\n",
    "        m_cap_w[i]=np.divide(sum_w_m[i],(1-math.pow(beta_1,ct)))\n",
    "        v_cap_w[i]=np.divide(sum_w_v[i],(1-math.pow(beta_2,ct)))\n",
    "\n",
    "        m_cap_b=np.divide(sum_b_m[i],(1-math.pow(beta_1,ct)))\n",
    "        v_cap_b=np.divide(sum_b_v[i],(1-math.pow(beta_2,ct)))\n",
    "\n",
    "        w[i]=w[i]-(learning_rate*np.divide(m_cap_w[i],np.sqrt(v_cap_w[i]+epsilon)))\n",
    "        b[i]=b[i]-(learning_rate*np.divide(m_cap_b[i],np.sqrt(v_cap_b[i]+epsilon)))\n",
    "    m_w=sum_w_m\n",
    "    m_b=sum_b_m\n",
    "    v_w=sum_w_v\n",
    "    v_b=sum_b_v\n",
    "    return w,b,v_w,v_b,m_w,m_b\n",
    "def nadam_update(w,b,grad_w,grad_b,learning_rate,v_w,v_b,m_w,m_b,ct,no_hidden): #nadam optimisation\n",
    "    beta_1=0.9\n",
    "    beta_2=0.99\n",
    "    epsilon=1e-8\n",
    "    sum_w_m=[i * 0 for i in w]\n",
    "    sum_w_v=[i * 0 for i in w]\n",
    "    sum_b_m=[i * 0 for i in b]\n",
    "    sum_b_v=[i * 0 for i in b]\n",
    "    m_cap_w=[i * 0 for i in w]\n",
    "    m_cap_b=[i * 0 for i in b]\n",
    "    v_cap_w=[i * 0 for i in w]\n",
    "    v_cap_b=[i * 0 for i in b]\n",
    "    for i in range(no_hidden+1):\n",
    "        sum_w_m[i]=beta_1*m_w[i]+(1-beta_1)*grad_w[i].T\n",
    "        sum_w_v[i]=beta_2*v_w[i]+(1-beta_2)*(np.square(grad_w[i].T))\n",
    "\n",
    "        sum_b_m[i]=beta_1*m_b[i]+(1-beta_1)*grad_b[i].T\n",
    "        sum_b_v[i]=beta_2*v_b[i]+(1-beta_2)*(np.square(grad_b[i].T))\n",
    "\n",
    "        m_cap_w[i]=np.divide(beta_1*sum_w_m[i],(1-math.pow(beta_1,ct)))+np.divide((1-beta_1)*grad_w[i].T,(1-math.pow(beta_1,ct)))\n",
    "        v_cap_w[i]=np.divide(sum_w_v[i],(1-math.pow(beta_2,ct)))\n",
    "\n",
    "        m_cap_b[i]=np.divide(beta_1*sum_b_m[i],(1-math.pow(beta_1,ct)))+np.divide((1-beta_1)*grad_b[i].T,(1-math.pow(beta_1,ct)))\n",
    "        v_cap_b[i]=np.divide(sum_b_v[i],(1-math.pow(beta_2,ct)))\n",
    "\n",
    "        w[i]=w[i]-(learning_rate*np.divide(m_cap_w[i],np.sqrt(v_cap_w[i]+epsilon)))\n",
    "        b[i]=b[i]-(learning_rate*np.divide(m_cap_b[i],np.sqrt(v_cap_b[i]+epsilon)))\n",
    "    m_w=sum_w_m\n",
    "    m_b=sum_b_m\n",
    "    v_w=sum_w_v\n",
    "    v_b=sum_b_v\n",
    "    return w,b,v_w,v_b,m_w,m_b\n",
    "\n",
    "def test_model(w,b,x_test,y_test,y_test_enc,act_func,no_hidden,loss_func,lam):  #test the parameters onn a given dataset\n",
    "    an=[]\n",
    "    hn=[]\n",
    "    hn.append(x_test.T)\n",
    "    for i in range(no_hidden):\n",
    "        an.append(np.dot(w[i],hn[i])+b[i])\n",
    "        hn.append(activ_func(an[i],act_func))\n",
    "    a_fn=np.dot(w[no_hidden],hn[no_hidden])+b[no_hidden]\n",
    "    y_pred1=func_softmax(a_fn)\n",
    "    y_final=np.empty(x_test.shape[0])\n",
    "    for i in range(x_test.shape[0]):\n",
    "        y_final[i]=y_pred1[i].argmax()\n",
    "    loss= compute_loss(y_pred1,y_test_enc,w,loss_func,lam)\n",
    "    return round(accuracy_score(y_test, y_final),4),round(loss,4)\n",
    "\n",
    "def train_model(no_hidden,size_hidden,bs,max_iterations,learning_rate,learn_algo,lam,spec,act_func,loss_func): #execute this to train your data\n",
    "#no_hidden- Number of hidden layers,size_hidden - Array containing size of each layer\n",
    "#bs- batch size,max_iterations-Number of epochs,learning_rate-learning rate,\n",
    "#learn_algo- Optimisation algorithm ('sg'-stochastic gradient descent and minibatch gradient descent(specify sizes appropriately)\n",
    "#'mb'-mini_batch gradient descent,'nag'-NAG, 'rmsprop'-RMSProp,'adam'-ADAM, 'nadam'-NADAm\n",
    "#lam-L-2 regularisation parameter,spec-weights and biases initialisation(xv-Xavier and 'random'-Random),\n",
    "#act_func- activation function ('logistic'-sigmoid function, 'tanh'-tanh function, 'relu'-Relu function)\n",
    "    ct=1;\n",
    "    #(X_train, Y_train), (X_test, Y_test) = fashion_mnist.load_data() #load the data\n",
    "    (X_train, Y_train), (X_test, Y_test) = mnist.load_data()\n",
    "    input_size=784 #input of 784 pixels\n",
    "    no_output=10 #10 classes\n",
    "    x_train_raw,x_train,y_train_raw,y_train,y_train_enc,x_test,y_test,y_test_enc,x_valid,y_valid,y_valid_enc=batch_split(bs,X_train,Y_train,X_test,Y_test) #split the data to training, test and validation\n",
    "    no_batch=len(x_train)\n",
    "    w,b=initialize_params(no_hidden,size_hidden,spec)\n",
    "    \n",
    "    if learn_algo=='sg':\n",
    "        while ct<=max_iterations:\n",
    "            for eg in range(no_batch):\n",
    "                a,h,a_f,y_pred=forward_prop(x_train[eg],w,b,act_func,no_hidden)\n",
    "                grad_b,grad_w=backward_prop(y_train[eg],y_pred,w,b,h,a,a_f,no_hidden,lam,act_func,loss_func)\n",
    "                w,b=sg_mb_update(w,b,grad_w,grad_b,learning_rate,no_hidden)\n",
    "            valid_acc,valid_loss=test_model(w,b,x_valid,y_valid,y_valid_enc,act_func,no_hidden,loss_func,lam)\n",
    "            train_acc,train_loss=test_model(w,b,x_train_raw,y_train_raw,y_train_enc,act_func,no_hidden,loss_func,lam)\n",
    "            #wandb.log({\"accuracy\":train_acc , \"val_accuracy\": valid_acc,\"val_loss\": valid_loss,\"loss\": train_loss,\"epochs\":ct})\n",
    "            #print('valid_loss',valid_loss,'Valid_Accuracy',valid_acc)\n",
    "            #print('train_loss',train_loss,'train_Accuracy',train_acc,'\\n')\n",
    "            ct+=1        \n",
    "    elif learn_algo=='mb':\n",
    "           \n",
    "            update_w= [i * 0 for i in w]\n",
    "            update_b= [i * 0 for i in b]\n",
    "            while ct<=max_iterations:\n",
    "                for eg in range(no_batch):\n",
    "                    a,h,a_f,y_pred=forward_prop(x_train[eg],w,b,act_func,no_hidden)\n",
    "                    grad_b,grad_w=backward_prop(y_train[eg],y_pred,w,b,h,a,a_f,no_hidden,lam,act_func,loss_func)\n",
    "                    w,b,update_w,update_b=momentum_update(w,b,grad_w,grad_b,learning_rate,update_w,update_b,no_hidden)\n",
    "                valid_acc,valid_loss=test_model(w,b,x_valid,y_valid,y_valid_enc,act_func,no_hidden,loss_func,lam)\n",
    "                train_acc,train_loss=test_model(w,b,x_train_raw,y_train_raw,y_train_enc,act_func,no_hidden,loss_func,lam)\n",
    "                #wandb.log({\"accuracy\":train_acc , \"val_accuracy\": valid_acc,\"val_loss\": valid_loss,\"loss\": train_loss,\"epochs\":ct})\n",
    "                #print('valid_loss',valid_loss,'Valid_Accuracy',valid_acc)\n",
    "                #print('train_loss',train_loss,'train_Accuracy',train_acc,'\\n')\n",
    "                ct+=1\n",
    "    elif learn_algo=='nag':  \n",
    "            update_w= [i * 0 for i in w]\n",
    "            update_b= [i * 0 for i in b]\n",
    "            while ct<=max_iterations:\n",
    "                for eg in range(no_batch):\n",
    "                    w,b=nag_lookahead(w,b,learning_rate,update_w,update_b,no_hidden)\n",
    "                    a,h,a_f,y_pred=forward_prop(x_train[eg],w,b,act_func,no_hidden)\n",
    "                    grad_b,grad_w=backward_prop(y_train[eg],y_pred,w,b,h,a,a_f,no_hidden,lam,act_func,loss_func)\n",
    "                    w,b,update_w,update_b=nag_update(w,b,grad_w,grad_b,learning_rate,update_w,update_b,no_hidden)\n",
    "                valid_acc,valid_loss=test_model(w,b,x_valid,y_valid,y_valid_enc,act_func,no_hidden,loss_func,lam)\n",
    "                train_acc,train_loss=test_model(w,b,x_train_raw,y_train_raw,y_train_enc,act_func,no_hidden,loss_func,lam)\n",
    "                #wandb.log({\"accuracy\":train_acc , \"val_accuracy\": valid_acc,\"val_loss\": valid_loss,\"loss\": train_loss,\"epochs\":ct})\n",
    "                #print('valid_loss',valid_loss,'Valid_Accuracy',valid_acc)\n",
    "                #print('train_loss',train_loss,'train_Accuracy',train_acc,'\\n')\n",
    "                ct+=1\n",
    "    elif learn_algo=='rmsprop':    \n",
    "            v_w= [i * 0 for i in w]\n",
    "            v_b= [i * 0 for i in b]\n",
    "            while ct<=max_iterations:\n",
    "                for eg in range(no_batch):\n",
    "                    a,h,a_f,y_pred=forward_prop(x_train[eg],w,b,act_func,no_hidden)\n",
    "                    grad_b,grad_w=backward_prop(y_train[eg],y_pred,w,b,h,a,a_f,no_hidden,lam,act_func,loss_func)\n",
    "                    w,b,v_w,v_b=rmsprop_update(w,b,grad_w,grad_b,learning_rate,v_w,v_b,no_hidden)\n",
    "                valid_acc,valid_loss=test_model(w,b,x_valid,y_valid,y_valid_enc,act_func,no_hidden,loss_func,lam)\n",
    "                train_acc,train_loss=test_model(w,b,x_train_raw,y_train_raw,y_train_enc,act_func,no_hidden,loss_func,lam)\n",
    "                #wandb.log({\"accuracy\":train_acc , \"val_accuracy\": valid_acc,\"val_loss\": valid_loss,\"loss\": train_loss,\"epochs\":ct})\n",
    "                #print('valid_loss',valid_loss,'Valid_Accuracy',valid_acc)\n",
    "                #print('train_loss',train_loss,'train_Accuracy',train_acc,'\\n')\n",
    "                ct+=1\n",
    "    elif learn_algo=='adam':    \n",
    "            v_w= [i * 0 for i in w]\n",
    "            m_w= [i * 0 for i in w]\n",
    "            v_b= [i * 0 for i in b]\n",
    "            m_b= [i * 0 for i in b]\n",
    "            while ct<=max_iterations:\n",
    "                for eg in range(no_batch):\n",
    "                    a,h,a_f,y_pred=forward_prop(x_train[eg],w,b,act_func,no_hidden)\n",
    "                    grad_b,grad_w=backward_prop(y_train[eg],y_pred,w,b,h,a,a_f,no_hidden,lam,act_func,loss_func)\n",
    "                    w,b,v_w,v_b,m_w,m_b=adam_update(w,b,grad_w,grad_b,learning_rate,v_w,v_b,m_w,m_b,ct,no_hidden)\n",
    "                valid_acc,valid_loss=test_model(w,b,x_valid,y_valid,y_valid_enc,act_func,no_hidden,loss_func,lam)\n",
    "                train_acc,train_loss=test_model(w,b,x_train_raw,y_train_raw,y_train_enc,act_func,no_hidden,loss_func,lam)\n",
    "                #wandb.log({\"accuracy\":train_acc , \"val_accuracy\": valid_acc,\"val_loss\": valid_loss,\"loss\": train_loss,\"epochs\":ct})\n",
    "                #print('valid_loss',valid_loss,'Valid_Accuracy',valid_acc)\n",
    "                #print('train_loss',train_loss,'train_Accuracy',train_acc,'\\n')\n",
    "                ct+=1            \n",
    "    elif learn_algo=='nadam':    \n",
    "            v_w= [i * 0 for i in w]\n",
    "            m_w= [i * 0 for i in w]\n",
    "            v_b= [i * 0 for i in b]\n",
    "            m_b= [i * 0 for i in b]\n",
    "            while ct<=max_iterations:\n",
    "                for eg in range(no_batch):\n",
    "                    a,h,a_f,y_pred=forward_prop(x_train[eg],w,b,act_func,no_hidden)\n",
    "                    grad_b,grad_w=backward_prop(y_train[eg],y_pred,w,b,h,a,a_f,no_hidden,lam,act_func,loss_func)\n",
    "                    w,b,v_w,v_b,m_w,m_b=nadam_update(w,b,grad_w,grad_b,learning_rate,v_w,v_b,m_w,m_b,ct,no_hidden)\n",
    "                valid_acc,valid_loss=test_model(w,b,x_valid,y_valid,y_valid_enc,act_func,no_hidden,loss_func,lam)\n",
    "                train_acc,train_loss=test_model(w,b,x_train_raw,y_train_raw,y_train_enc,act_func,no_hidden,loss_func,lam)\n",
    "                #print('valid_loss',valid_loss,'Valid_Accuracy',valid_acc)\n",
    "                #print('train_loss',train_loss,'train_Accuracy',train_acc,'\\n')\n",
    "                #wandb.log({\"accuracy\":train_acc , \"val_accuracy\": valid_acc,\"val_loss\": valid_loss,\"loss\": train_loss,\"epochs\":ct})\n",
    "                wandb.log({\"accuracy\":train_acc , \"val_accuracy\": valid_acc})\n",
    "                ct+=1\n",
    "    test_acc,test_loss=test_model(w,b,x_test,y_test,y_test_enc,act_func,no_hidden,loss_func,lam)\n",
    "    wandb.log({\"test accuracy\":test_acc})\n",
    "    #test_model_cf(w,b,x_test,y_test,y_test_enc,act_func,no_hidden,loss_func,lam)\n",
    "    #return w,b\n",
    "    #print('test_loss',test_loss,'test_Accuracy',test_acc)\n",
    "    "
   ]
  },
  {
   "cell_type": "code",
   "execution_count": 200,
   "id": "e96e4796",
   "metadata": {},
   "outputs": [],
   "source": [
    "sweep_config={'method':'random'} #set the type of search"
   ]
  },
  {
   "cell_type": "code",
   "execution_count": 201,
   "id": "e5996b75",
   "metadata": {},
   "outputs": [],
   "source": [
    "metric={'name':'valid_acc','goal':'maximize'}\n",
    "sweep_config['metric']=metric #set the metric"
   ]
  },
  {
   "cell_type": "code",
   "execution_count": 202,
   "id": "d8c94a30",
   "metadata": {},
   "outputs": [],
   "source": [
    "parameters_dict={'no_hidden':{'values':[3,4]},'size_hidden':{'values':[32,64,128]},'max_iterations':{'values':[10]},\n",
    "    'bs':{'values':[32,64]},'learn_algo':{'values':['nadam','rmsprop','adam']}, 'lam':{'values':[0.005,0.0005]}, 'learning_rate':{'values':[0.001,0.001]},\n",
    "                    'spec':{'values':['rand']},'act_func':{'values':['tanh']},'loss_func':{'values':['cross_entropy']}} #all parameters neede for the sweep"
   ]
  },
  {
   "cell_type": "code",
   "execution_count": 203,
   "id": "08577d11",
   "metadata": {},
   "outputs": [],
   "source": [
    "sweep_config['parameters']=parameters_dict #add to the sweep config"
   ]
  },
  {
   "cell_type": "code",
   "execution_count": 198,
   "id": "ae3b42e5",
   "metadata": {},
   "outputs": [
    {
     "name": "stdout",
     "output_type": "stream",
     "text": [
      "Create sweep with ID: b0nwo1sq\n",
      "Sweep URL: https://wandb.ai/as1_dl/mnist/sweeps/b0nwo1sq\n"
     ]
    }
   ],
   "source": [
    "sweep_id=wandb.sweep(sweep_config,project='mnist') #create sweep id and pass it to the agent"
   ]
  },
  {
   "cell_type": "code",
   "execution_count": 205,
   "id": "8834d5e5",
   "metadata": {},
   "outputs": [
    {
     "name": "stderr",
     "output_type": "stream",
     "text": [
      "wandb: Agent Starting Run: f7ilk1w1 with config:\n",
      "wandb: \tact_func: tanh\n",
      "wandb: \tbs: 32\n",
      "wandb: \tlam: 0.005\n",
      "wandb: \tlearn_algo: nadam\n",
      "wandb: \tlearning_rate: 0.001\n",
      "wandb: \tloss_func: cross_entropy\n",
      "wandb: \tmax_iterations: 10\n",
      "wandb: \tno_hidden: 3\n",
      "wandb: \tsize_hidden: 32\n",
      "wandb: \tspec: rand\n"
     ]
    },
    {
     "data": {
      "text/html": [
       "\n",
       "                    Syncing run <strong><a href=\"https://wandb.ai/as1_dl/mnist/runs/f7ilk1w1\" target=\"_blank\">celestial-sweep-1</a></strong> to <a href=\"https://wandb.ai/as1_dl/mnist\" target=\"_blank\">Weights & Biases</a> (<a href=\"https://docs.wandb.com/integrations/jupyter.html\" target=\"_blank\">docs</a>).<br/>\n",
       "Sweep page: <a href=\"https://wandb.ai/as1_dl/mnist/sweeps/b0nwo1sq\" target=\"_blank\">https://wandb.ai/as1_dl/mnist/sweeps/b0nwo1sq</a><br/>\n",
       "\n",
       "                "
      ],
      "text/plain": [
       "<IPython.core.display.HTML object>"
      ]
     },
     "metadata": {},
     "output_type": "display_data"
    },
    {
     "name": "stdout",
     "output_type": "stream",
     "text": [
      "Downloading data from https://storage.googleapis.com/tensorflow/tf-keras-datasets/mnist.npz\n",
      "11493376/11490434 [==============================] - 1s 0us/step\n",
      "11501568/11490434 [==============================] - 1s 0us/step\n"
     ]
    },
    {
     "data": {
      "text/html": [
       "<br/>Waiting for W&B process to finish, PID 21428... <strong style=\"color:green\">(success).</strong>"
      ],
      "text/plain": [
       "<IPython.core.display.HTML object>"
      ]
     },
     "metadata": {},
     "output_type": "display_data"
    },
    {
     "data": {
      "application/vnd.jupyter.widget-view+json": {
       "model_id": "",
       "version_major": 2,
       "version_minor": 0
      },
      "text/plain": [
       "VBox(children=(Label(value=' 0.00MB of 0.00MB uploaded (0.00MB deduped)\\r'), FloatProgress(value=1.0, max=1.0)…"
      ]
     },
     "metadata": {},
     "output_type": "display_data"
    },
    {
     "data": {
      "text/html": [
       "<style>\n",
       "    table.wandb td:nth-child(1) { padding: 0 10px; text-align: right }\n",
       "    .wandb-row { display: flex; flex-direction: row; flex-wrap: wrap; width: 100% }\n",
       "    .wandb-col { display: flex; flex-direction: column; flex-basis: 100%; flex: 1; padding: 10px; }\n",
       "    </style>\n",
       "<div class=\"wandb-row\"><div class=\"wandb-col\">\n",
       "<h3>Run history:</h3><br/><table class=\"wandb\"><tr><td>accuracy</td><td>▁▆▇▇██████</td></tr><tr><td>test accuracy</td><td>▁</td></tr><tr><td>val_accuracy</td><td>▁▆▇▇██████</td></tr></table><br/></div><div class=\"wandb-col\">\n",
       "<h3>Run summary:</h3><br/><table class=\"wandb\"><tr><td>accuracy</td><td>0.9745</td></tr><tr><td>test accuracy</td><td>0.9567</td></tr><tr><td>val_accuracy</td><td>0.9588</td></tr></table>\n",
       "</div></div>\n",
       "Synced 6 W&B file(s), 0 media file(s), 0 artifact file(s) and 0 other file(s)\n",
       "<br/>Synced <strong style=\"color:#cdcd00\">celestial-sweep-1</strong>: <a href=\"https://wandb.ai/as1_dl/mnist/runs/f7ilk1w1\" target=\"_blank\">https://wandb.ai/as1_dl/mnist/runs/f7ilk1w1</a><br/>\n",
       "Find logs at: <code>.\\wandb\\run-20220224_215728-f7ilk1w1\\logs</code><br/>\n"
      ],
      "text/plain": [
       "<IPython.core.display.HTML object>"
      ]
     },
     "metadata": {},
     "output_type": "display_data"
    },
    {
     "name": "stderr",
     "output_type": "stream",
     "text": [
      "wandb: Agent Starting Run: ud203tmu with config:\n",
      "wandb: \tact_func: tanh\n",
      "wandb: \tbs: 32\n",
      "wandb: \tlam: 0.005\n",
      "wandb: \tlearn_algo: nadam\n",
      "wandb: \tlearning_rate: 0.001\n",
      "wandb: \tloss_func: cross_entropy\n",
      "wandb: \tmax_iterations: 10\n",
      "wandb: \tno_hidden: 3\n",
      "wandb: \tsize_hidden: 64\n",
      "wandb: \tspec: rand\n"
     ]
    },
    {
     "data": {
      "text/html": [
       "\n",
       "                    Syncing run <strong><a href=\"https://wandb.ai/as1_dl/mnist/runs/ud203tmu\" target=\"_blank\">young-sweep-2</a></strong> to <a href=\"https://wandb.ai/as1_dl/mnist\" target=\"_blank\">Weights & Biases</a> (<a href=\"https://docs.wandb.com/integrations/jupyter.html\" target=\"_blank\">docs</a>).<br/>\n",
       "Sweep page: <a href=\"https://wandb.ai/as1_dl/mnist/sweeps/b0nwo1sq\" target=\"_blank\">https://wandb.ai/as1_dl/mnist/sweeps/b0nwo1sq</a><br/>\n",
       "\n",
       "                "
      ],
      "text/plain": [
       "<IPython.core.display.HTML object>"
      ]
     },
     "metadata": {},
     "output_type": "display_data"
    },
    {
     "data": {
      "text/html": [
       "<br/>Waiting for W&B process to finish, PID 36636... <strong style=\"color:green\">(success).</strong>"
      ],
      "text/plain": [
       "<IPython.core.display.HTML object>"
      ]
     },
     "metadata": {},
     "output_type": "display_data"
    },
    {
     "data": {
      "application/vnd.jupyter.widget-view+json": {
       "model_id": "",
       "version_major": 2,
       "version_minor": 0
      },
      "text/plain": [
       "VBox(children=(Label(value=' 0.00MB of 0.00MB uploaded (0.00MB deduped)\\r'), FloatProgress(value=1.0, max=1.0)…"
      ]
     },
     "metadata": {},
     "output_type": "display_data"
    },
    {
     "data": {
      "text/html": [
       "<style>\n",
       "    table.wandb td:nth-child(1) { padding: 0 10px; text-align: right }\n",
       "    .wandb-row { display: flex; flex-direction: row; flex-wrap: wrap; width: 100% }\n",
       "    .wandb-col { display: flex; flex-direction: column; flex-basis: 100%; flex: 1; padding: 10px; }\n",
       "    </style>\n",
       "<div class=\"wandb-row\"><div class=\"wandb-col\">\n",
       "<h3>Run history:</h3><br/><table class=\"wandb\"><tr><td>accuracy</td><td>▁▄▅▆▇▇▇███</td></tr><tr><td>test accuracy</td><td>▁</td></tr><tr><td>val_accuracy</td><td>▁▄▆▇▇█████</td></tr></table><br/></div><div class=\"wandb-col\">\n",
       "<h3>Run summary:</h3><br/><table class=\"wandb\"><tr><td>accuracy</td><td>0.9856</td></tr><tr><td>test accuracy</td><td>0.97</td></tr><tr><td>val_accuracy</td><td>0.9638</td></tr></table>\n",
       "</div></div>\n",
       "Synced 5 W&B file(s), 0 media file(s), 0 artifact file(s) and 0 other file(s)\n",
       "<br/>Synced <strong style=\"color:#cdcd00\">young-sweep-2</strong>: <a href=\"https://wandb.ai/as1_dl/mnist/runs/ud203tmu\" target=\"_blank\">https://wandb.ai/as1_dl/mnist/runs/ud203tmu</a><br/>\n",
       "Find logs at: <code>.\\wandb\\run-20220224_215817-ud203tmu\\logs</code><br/>\n"
      ],
      "text/plain": [
       "<IPython.core.display.HTML object>"
      ]
     },
     "metadata": {},
     "output_type": "display_data"
    },
    {
     "name": "stderr",
     "output_type": "stream",
     "text": [
      "wandb: Agent Starting Run: cwwvvhpa with config:\n",
      "wandb: \tact_func: tanh\n",
      "wandb: \tbs: 32\n",
      "wandb: \tlam: 0.005\n",
      "wandb: \tlearn_algo: nadam\n",
      "wandb: \tlearning_rate: 0.001\n",
      "wandb: \tloss_func: cross_entropy\n",
      "wandb: \tmax_iterations: 10\n",
      "wandb: \tno_hidden: 3\n",
      "wandb: \tsize_hidden: 128\n",
      "wandb: \tspec: rand\n"
     ]
    },
    {
     "data": {
      "text/html": [
       "\n",
       "                    Syncing run <strong><a href=\"https://wandb.ai/as1_dl/mnist/runs/cwwvvhpa\" target=\"_blank\">playful-sweep-3</a></strong> to <a href=\"https://wandb.ai/as1_dl/mnist\" target=\"_blank\">Weights & Biases</a> (<a href=\"https://docs.wandb.com/integrations/jupyter.html\" target=\"_blank\">docs</a>).<br/>\n",
       "Sweep page: <a href=\"https://wandb.ai/as1_dl/mnist/sweeps/b0nwo1sq\" target=\"_blank\">https://wandb.ai/as1_dl/mnist/sweeps/b0nwo1sq</a><br/>\n",
       "\n",
       "                "
      ],
      "text/plain": [
       "<IPython.core.display.HTML object>"
      ]
     },
     "metadata": {},
     "output_type": "display_data"
    },
    {
     "data": {
      "text/html": [
       "<br/>Waiting for W&B process to finish, PID 38268... <strong style=\"color:green\">(success).</strong>"
      ],
      "text/plain": [
       "<IPython.core.display.HTML object>"
      ]
     },
     "metadata": {},
     "output_type": "display_data"
    },
    {
     "data": {
      "application/vnd.jupyter.widget-view+json": {
       "model_id": "",
       "version_major": 2,
       "version_minor": 0
      },
      "text/plain": [
       "VBox(children=(Label(value=' 0.00MB of 0.00MB uploaded (0.00MB deduped)\\r'), FloatProgress(value=1.0, max=1.0)…"
      ]
     },
     "metadata": {},
     "output_type": "display_data"
    },
    {
     "data": {
      "text/html": [
       "<style>\n",
       "    table.wandb td:nth-child(1) { padding: 0 10px; text-align: right }\n",
       "    .wandb-row { display: flex; flex-direction: row; flex-wrap: wrap; width: 100% }\n",
       "    .wandb-col { display: flex; flex-direction: column; flex-basis: 100%; flex: 1; padding: 10px; }\n",
       "    </style>\n",
       "<div class=\"wandb-row\"><div class=\"wandb-col\">\n",
       "<h3>Run history:</h3><br/><table class=\"wandb\"><tr><td>accuracy</td><td>▁▄▆▆▇█████</td></tr><tr><td>test accuracy</td><td>▁</td></tr><tr><td>val_accuracy</td><td>▁▅▆▆▇█████</td></tr></table><br/></div><div class=\"wandb-col\">\n",
       "<h3>Run summary:</h3><br/><table class=\"wandb\"><tr><td>accuracy</td><td>0.9869</td></tr><tr><td>test accuracy</td><td>0.9699</td></tr><tr><td>val_accuracy</td><td>0.9718</td></tr></table>\n",
       "</div></div>\n",
       "Synced 5 W&B file(s), 0 media file(s), 0 artifact file(s) and 0 other file(s)\n",
       "<br/>Synced <strong style=\"color:#cdcd00\">playful-sweep-3</strong>: <a href=\"https://wandb.ai/as1_dl/mnist/runs/cwwvvhpa\" target=\"_blank\">https://wandb.ai/as1_dl/mnist/runs/cwwvvhpa</a><br/>\n",
       "Find logs at: <code>.\\wandb\\run-20220224_215921-cwwvvhpa\\logs</code><br/>\n"
      ],
      "text/plain": [
       "<IPython.core.display.HTML object>"
      ]
     },
     "metadata": {},
     "output_type": "display_data"
    },
    {
     "name": "stderr",
     "output_type": "stream",
     "text": [
      "wandb: Agent Starting Run: 2or9tr7z with config:\n",
      "wandb: \tact_func: tanh\n",
      "wandb: \tbs: 32\n",
      "wandb: \tlam: 0.005\n",
      "wandb: \tlearn_algo: nadam\n",
      "wandb: \tlearning_rate: 0.001\n",
      "wandb: \tloss_func: cross_entropy\n",
      "wandb: \tmax_iterations: 10\n",
      "wandb: \tno_hidden: 4\n",
      "wandb: \tsize_hidden: 32\n",
      "wandb: \tspec: rand\n"
     ]
    },
    {
     "data": {
      "text/html": [
       "\n",
       "                    Syncing run <strong><a href=\"https://wandb.ai/as1_dl/mnist/runs/2or9tr7z\" target=\"_blank\">royal-sweep-4</a></strong> to <a href=\"https://wandb.ai/as1_dl/mnist\" target=\"_blank\">Weights & Biases</a> (<a href=\"https://docs.wandb.com/integrations/jupyter.html\" target=\"_blank\">docs</a>).<br/>\n",
       "Sweep page: <a href=\"https://wandb.ai/as1_dl/mnist/sweeps/b0nwo1sq\" target=\"_blank\">https://wandb.ai/as1_dl/mnist/sweeps/b0nwo1sq</a><br/>\n",
       "\n",
       "                "
      ],
      "text/plain": [
       "<IPython.core.display.HTML object>"
      ]
     },
     "metadata": {},
     "output_type": "display_data"
    },
    {
     "data": {
      "text/html": [
       "<br/>Waiting for W&B process to finish, PID 11740... <strong style=\"color:green\">(success).</strong>"
      ],
      "text/plain": [
       "<IPython.core.display.HTML object>"
      ]
     },
     "metadata": {},
     "output_type": "display_data"
    },
    {
     "data": {
      "application/vnd.jupyter.widget-view+json": {
       "model_id": "",
       "version_major": 2,
       "version_minor": 0
      },
      "text/plain": [
       "VBox(children=(Label(value=' 0.00MB of 0.00MB uploaded (0.00MB deduped)\\r'), FloatProgress(value=1.0, max=1.0)…"
      ]
     },
     "metadata": {},
     "output_type": "display_data"
    },
    {
     "data": {
      "text/html": [
       "<style>\n",
       "    table.wandb td:nth-child(1) { padding: 0 10px; text-align: right }\n",
       "    .wandb-row { display: flex; flex-direction: row; flex-wrap: wrap; width: 100% }\n",
       "    .wandb-col { display: flex; flex-direction: column; flex-basis: 100%; flex: 1; padding: 10px; }\n",
       "    </style>\n",
       "<div class=\"wandb-row\"><div class=\"wandb-col\">\n",
       "<h3>Run history:</h3><br/><table class=\"wandb\"><tr><td>accuracy</td><td>▁▆▇███████</td></tr><tr><td>test accuracy</td><td>▁</td></tr><tr><td>val_accuracy</td><td>▁▆▇███████</td></tr></table><br/></div><div class=\"wandb-col\">\n",
       "<h3>Run summary:</h3><br/><table class=\"wandb\"><tr><td>accuracy</td><td>0.9659</td></tr><tr><td>test accuracy</td><td>0.9505</td></tr><tr><td>val_accuracy</td><td>0.947</td></tr></table>\n",
       "</div></div>\n",
       "Synced 5 W&B file(s), 0 media file(s), 0 artifact file(s) and 0 other file(s)\n",
       "<br/>Synced <strong style=\"color:#cdcd00\">royal-sweep-4</strong>: <a href=\"https://wandb.ai/as1_dl/mnist/runs/2or9tr7z\" target=\"_blank\">https://wandb.ai/as1_dl/mnist/runs/2or9tr7z</a><br/>\n",
       "Find logs at: <code>.\\wandb\\run-20220224_220108-2or9tr7z\\logs</code><br/>\n"
      ],
      "text/plain": [
       "<IPython.core.display.HTML object>"
      ]
     },
     "metadata": {},
     "output_type": "display_data"
    },
    {
     "name": "stderr",
     "output_type": "stream",
     "text": [
      "wandb: Sweep Agent: Waiting for job.\n",
      "wandb: Job received.\n",
      "wandb: Agent Starting Run: 3igpi7ue with config:\n",
      "wandb: \tact_func: tanh\n",
      "wandb: \tbs: 32\n",
      "wandb: \tlam: 0.005\n",
      "wandb: \tlearn_algo: nadam\n",
      "wandb: \tlearning_rate: 0.001\n",
      "wandb: \tloss_func: cross_entropy\n",
      "wandb: \tmax_iterations: 10\n",
      "wandb: \tno_hidden: 4\n",
      "wandb: \tsize_hidden: 64\n",
      "wandb: \tspec: rand\n"
     ]
    },
    {
     "data": {
      "text/html": [
       "\n",
       "                    Syncing run <strong><a href=\"https://wandb.ai/as1_dl/mnist/runs/3igpi7ue\" target=\"_blank\">likely-sweep-5</a></strong> to <a href=\"https://wandb.ai/as1_dl/mnist\" target=\"_blank\">Weights & Biases</a> (<a href=\"https://docs.wandb.com/integrations/jupyter.html\" target=\"_blank\">docs</a>).<br/>\n",
       "Sweep page: <a href=\"https://wandb.ai/as1_dl/mnist/sweeps/b0nwo1sq\" target=\"_blank\">https://wandb.ai/as1_dl/mnist/sweeps/b0nwo1sq</a><br/>\n",
       "\n",
       "                "
      ],
      "text/plain": [
       "<IPython.core.display.HTML object>"
      ]
     },
     "metadata": {},
     "output_type": "display_data"
    },
    {
     "data": {
      "text/html": [
       "<br/>Waiting for W&B process to finish, PID 35000... <strong style=\"color:green\">(success).</strong>"
      ],
      "text/plain": [
       "<IPython.core.display.HTML object>"
      ]
     },
     "metadata": {},
     "output_type": "display_data"
    },
    {
     "data": {
      "application/vnd.jupyter.widget-view+json": {
       "model_id": "",
       "version_major": 2,
       "version_minor": 0
      },
      "text/plain": [
       "VBox(children=(Label(value=' 0.00MB of 0.00MB uploaded (0.00MB deduped)\\r'), FloatProgress(value=1.0, max=1.0)…"
      ]
     },
     "metadata": {},
     "output_type": "display_data"
    },
    {
     "data": {
      "text/html": [
       "<style>\n",
       "    table.wandb td:nth-child(1) { padding: 0 10px; text-align: right }\n",
       "    .wandb-row { display: flex; flex-direction: row; flex-wrap: wrap; width: 100% }\n",
       "    .wandb-col { display: flex; flex-direction: column; flex-basis: 100%; flex: 1; padding: 10px; }\n",
       "    </style>\n",
       "<div class=\"wandb-row\"><div class=\"wandb-col\">\n",
       "<h3>Run history:</h3><br/><table class=\"wandb\"><tr><td>accuracy</td><td>▁▅▇▇▇▇████</td></tr><tr><td>test accuracy</td><td>▁</td></tr><tr><td>val_accuracy</td><td>▁▆▆▇▇█████</td></tr></table><br/></div><div class=\"wandb-col\">\n",
       "<h3>Run summary:</h3><br/><table class=\"wandb\"><tr><td>accuracy</td><td>0.9735</td></tr><tr><td>test accuracy</td><td>0.9571</td></tr><tr><td>val_accuracy</td><td>0.9578</td></tr></table>\n",
       "</div></div>\n",
       "Synced 5 W&B file(s), 0 media file(s), 0 artifact file(s) and 0 other file(s)\n",
       "<br/>Synced <strong style=\"color:#cdcd00\">likely-sweep-5</strong>: <a href=\"https://wandb.ai/as1_dl/mnist/runs/3igpi7ue\" target=\"_blank\">https://wandb.ai/as1_dl/mnist/runs/3igpi7ue</a><br/>\n",
       "Find logs at: <code>.\\wandb\\run-20220224_220206-3igpi7ue\\logs</code><br/>\n"
      ],
      "text/plain": [
       "<IPython.core.display.HTML object>"
      ]
     },
     "metadata": {},
     "output_type": "display_data"
    },
    {
     "name": "stderr",
     "output_type": "stream",
     "text": [
      "wandb: Sweep Agent: Waiting for job.\n",
      "wandb: Job received.\n",
      "wandb: Agent Starting Run: qypd2j2f with config:\n",
      "wandb: \tact_func: tanh\n",
      "wandb: \tbs: 32\n",
      "wandb: \tlam: 0.005\n",
      "wandb: \tlearn_algo: nadam\n",
      "wandb: \tlearning_rate: 0.001\n",
      "wandb: \tloss_func: cross_entropy\n",
      "wandb: \tmax_iterations: 10\n",
      "wandb: \tno_hidden: 4\n",
      "wandb: \tsize_hidden: 128\n",
      "wandb: \tspec: rand\n"
     ]
    },
    {
     "data": {
      "text/html": [
       "\n",
       "                    Syncing run <strong><a href=\"https://wandb.ai/as1_dl/mnist/runs/qypd2j2f\" target=\"_blank\">clear-sweep-6</a></strong> to <a href=\"https://wandb.ai/as1_dl/mnist\" target=\"_blank\">Weights & Biases</a> (<a href=\"https://docs.wandb.com/integrations/jupyter.html\" target=\"_blank\">docs</a>).<br/>\n",
       "Sweep page: <a href=\"https://wandb.ai/as1_dl/mnist/sweeps/b0nwo1sq\" target=\"_blank\">https://wandb.ai/as1_dl/mnist/sweeps/b0nwo1sq</a><br/>\n",
       "\n",
       "                "
      ],
      "text/plain": [
       "<IPython.core.display.HTML object>"
      ]
     },
     "metadata": {},
     "output_type": "display_data"
    },
    {
     "data": {
      "text/html": [
       "<br/>Waiting for W&B process to finish, PID 11164... <strong style=\"color:green\">(success).</strong>"
      ],
      "text/plain": [
       "<IPython.core.display.HTML object>"
      ]
     },
     "metadata": {},
     "output_type": "display_data"
    },
    {
     "data": {
      "application/vnd.jupyter.widget-view+json": {
       "model_id": "",
       "version_major": 2,
       "version_minor": 0
      },
      "text/plain": [
       "VBox(children=(Label(value=' 0.00MB of 0.00MB uploaded (0.00MB deduped)\\r'), FloatProgress(value=1.0, max=1.0)…"
      ]
     },
     "metadata": {},
     "output_type": "display_data"
    },
    {
     "data": {
      "text/html": [
       "<style>\n",
       "    table.wandb td:nth-child(1) { padding: 0 10px; text-align: right }\n",
       "    .wandb-row { display: flex; flex-direction: row; flex-wrap: wrap; width: 100% }\n",
       "    .wandb-col { display: flex; flex-direction: column; flex-basis: 100%; flex: 1; padding: 10px; }\n",
       "    </style>\n",
       "<div class=\"wandb-row\"><div class=\"wandb-col\">\n",
       "<h3>Run history:</h3><br/><table class=\"wandb\"><tr><td>accuracy</td><td>▁▅▆▇▇▇████</td></tr><tr><td>test accuracy</td><td>▁</td></tr><tr><td>val_accuracy</td><td>▁▆▇▇▇▇████</td></tr></table><br/></div><div class=\"wandb-col\">\n",
       "<h3>Run summary:</h3><br/><table class=\"wandb\"><tr><td>accuracy</td><td>0.9788</td></tr><tr><td>test accuracy</td><td>0.9629</td></tr><tr><td>val_accuracy</td><td>0.9645</td></tr></table>\n",
       "</div></div>\n",
       "Synced 5 W&B file(s), 0 media file(s), 0 artifact file(s) and 0 other file(s)\n",
       "<br/>Synced <strong style=\"color:#cdcd00\">clear-sweep-6</strong>: <a href=\"https://wandb.ai/as1_dl/mnist/runs/qypd2j2f\" target=\"_blank\">https://wandb.ai/as1_dl/mnist/runs/qypd2j2f</a><br/>\n",
       "Find logs at: <code>.\\wandb\\run-20220224_220322-qypd2j2f\\logs</code><br/>\n"
      ],
      "text/plain": [
       "<IPython.core.display.HTML object>"
      ]
     },
     "metadata": {},
     "output_type": "display_data"
    },
    {
     "name": "stderr",
     "output_type": "stream",
     "text": [
      "wandb: Agent Starting Run: xluu38ef with config:\n",
      "wandb: \tact_func: tanh\n",
      "wandb: \tbs: 32\n",
      "wandb: \tlam: 0.005\n",
      "wandb: \tlearn_algo: rmsprop\n",
      "wandb: \tlearning_rate: 0.001\n",
      "wandb: \tloss_func: cross_entropy\n",
      "wandb: \tmax_iterations: 10\n",
      "wandb: \tno_hidden: 3\n",
      "wandb: \tsize_hidden: 32\n",
      "wandb: \tspec: rand\n"
     ]
    },
    {
     "data": {
      "text/html": [
       "\n",
       "                    Syncing run <strong><a href=\"https://wandb.ai/as1_dl/mnist/runs/xluu38ef\" target=\"_blank\">sunny-sweep-7</a></strong> to <a href=\"https://wandb.ai/as1_dl/mnist\" target=\"_blank\">Weights & Biases</a> (<a href=\"https://docs.wandb.com/integrations/jupyter.html\" target=\"_blank\">docs</a>).<br/>\n",
       "Sweep page: <a href=\"https://wandb.ai/as1_dl/mnist/sweeps/b0nwo1sq\" target=\"_blank\">https://wandb.ai/as1_dl/mnist/sweeps/b0nwo1sq</a><br/>\n",
       "\n",
       "                "
      ],
      "text/plain": [
       "<IPython.core.display.HTML object>"
      ]
     },
     "metadata": {},
     "output_type": "display_data"
    },
    {
     "data": {
      "text/html": [
       "<br/>Waiting for W&B process to finish, PID 5828... <strong style=\"color:green\">(success).</strong>"
      ],
      "text/plain": [
       "<IPython.core.display.HTML object>"
      ]
     },
     "metadata": {},
     "output_type": "display_data"
    },
    {
     "data": {
      "application/vnd.jupyter.widget-view+json": {
       "model_id": "",
       "version_major": 2,
       "version_minor": 0
      },
      "text/plain": [
       "VBox(children=(Label(value=' 0.00MB of 0.00MB uploaded (0.00MB deduped)\\r'), FloatProgress(value=1.0, max=1.0)…"
      ]
     },
     "metadata": {},
     "output_type": "display_data"
    },
    {
     "data": {
      "text/html": [
       "<style>\n",
       "    table.wandb td:nth-child(1) { padding: 0 10px; text-align: right }\n",
       "    .wandb-row { display: flex; flex-direction: row; flex-wrap: wrap; width: 100% }\n",
       "    .wandb-col { display: flex; flex-direction: column; flex-basis: 100%; flex: 1; padding: 10px; }\n",
       "    </style>\n",
       "<div class=\"wandb-row\"><div class=\"wandb-col\">\n",
       "<h3>Run history:</h3><br/><table class=\"wandb\"><tr><td>test accuracy</td><td>▁</td></tr></table><br/></div><div class=\"wandb-col\">\n",
       "<h3>Run summary:</h3><br/><table class=\"wandb\"><tr><td>test accuracy</td><td>0.9608</td></tr></table>\n",
       "</div></div>\n",
       "Synced 5 W&B file(s), 0 media file(s), 0 artifact file(s) and 0 other file(s)\n",
       "<br/>Synced <strong style=\"color:#cdcd00\">sunny-sweep-7</strong>: <a href=\"https://wandb.ai/as1_dl/mnist/runs/xluu38ef\" target=\"_blank\">https://wandb.ai/as1_dl/mnist/runs/xluu38ef</a><br/>\n",
       "Find logs at: <code>.\\wandb\\run-20220224_220520-xluu38ef\\logs</code><br/>\n"
      ],
      "text/plain": [
       "<IPython.core.display.HTML object>"
      ]
     },
     "metadata": {},
     "output_type": "display_data"
    },
    {
     "name": "stderr",
     "output_type": "stream",
     "text": [
      "wandb: Agent Starting Run: 7x2jo5xn with config:\n",
      "wandb: \tact_func: tanh\n",
      "wandb: \tbs: 32\n",
      "wandb: \tlam: 0.005\n",
      "wandb: \tlearn_algo: rmsprop\n",
      "wandb: \tlearning_rate: 0.001\n",
      "wandb: \tloss_func: cross_entropy\n",
      "wandb: \tmax_iterations: 10\n",
      "wandb: \tno_hidden: 3\n",
      "wandb: \tsize_hidden: 64\n",
      "wandb: \tspec: rand\n"
     ]
    },
    {
     "data": {
      "text/html": [
       "\n",
       "                    Syncing run <strong><a href=\"https://wandb.ai/as1_dl/mnist/runs/7x2jo5xn\" target=\"_blank\">graceful-sweep-8</a></strong> to <a href=\"https://wandb.ai/as1_dl/mnist\" target=\"_blank\">Weights & Biases</a> (<a href=\"https://docs.wandb.com/integrations/jupyter.html\" target=\"_blank\">docs</a>).<br/>\n",
       "Sweep page: <a href=\"https://wandb.ai/as1_dl/mnist/sweeps/b0nwo1sq\" target=\"_blank\">https://wandb.ai/as1_dl/mnist/sweeps/b0nwo1sq</a><br/>\n",
       "\n",
       "                "
      ],
      "text/plain": [
       "<IPython.core.display.HTML object>"
      ]
     },
     "metadata": {},
     "output_type": "display_data"
    },
    {
     "data": {
      "text/html": [
       "<br/>Waiting for W&B process to finish, PID 28936... <strong style=\"color:green\">(success).</strong>"
      ],
      "text/plain": [
       "<IPython.core.display.HTML object>"
      ]
     },
     "metadata": {},
     "output_type": "display_data"
    },
    {
     "data": {
      "application/vnd.jupyter.widget-view+json": {
       "model_id": "",
       "version_major": 2,
       "version_minor": 0
      },
      "text/plain": [
       "VBox(children=(Label(value=' 0.00MB of 0.00MB uploaded (0.00MB deduped)\\r'), FloatProgress(value=1.0, max=1.0)…"
      ]
     },
     "metadata": {},
     "output_type": "display_data"
    },
    {
     "data": {
      "text/html": [
       "<style>\n",
       "    table.wandb td:nth-child(1) { padding: 0 10px; text-align: right }\n",
       "    .wandb-row { display: flex; flex-direction: row; flex-wrap: wrap; width: 100% }\n",
       "    .wandb-col { display: flex; flex-direction: column; flex-basis: 100%; flex: 1; padding: 10px; }\n",
       "    </style>\n",
       "<div class=\"wandb-row\"><div class=\"wandb-col\">\n",
       "<h3>Run history:</h3><br/><table class=\"wandb\"><tr><td>test accuracy</td><td>▁</td></tr></table><br/></div><div class=\"wandb-col\">\n",
       "<h3>Run summary:</h3><br/><table class=\"wandb\"><tr><td>test accuracy</td><td>0.9711</td></tr></table>\n",
       "</div></div>\n",
       "Synced 5 W&B file(s), 0 media file(s), 0 artifact file(s) and 0 other file(s)\n",
       "<br/>Synced <strong style=\"color:#cdcd00\">graceful-sweep-8</strong>: <a href=\"https://wandb.ai/as1_dl/mnist/runs/7x2jo5xn\" target=\"_blank\">https://wandb.ai/as1_dl/mnist/runs/7x2jo5xn</a><br/>\n",
       "Find logs at: <code>.\\wandb\\run-20220224_220603-7x2jo5xn\\logs</code><br/>\n"
      ],
      "text/plain": [
       "<IPython.core.display.HTML object>"
      ]
     },
     "metadata": {},
     "output_type": "display_data"
    },
    {
     "name": "stderr",
     "output_type": "stream",
     "text": [
      "wandb: Agent Starting Run: 5glqqryr with config:\n",
      "wandb: \tact_func: tanh\n",
      "wandb: \tbs: 32\n",
      "wandb: \tlam: 0.005\n",
      "wandb: \tlearn_algo: rmsprop\n",
      "wandb: \tlearning_rate: 0.001\n",
      "wandb: \tloss_func: cross_entropy\n",
      "wandb: \tmax_iterations: 10\n",
      "wandb: \tno_hidden: 3\n",
      "wandb: \tsize_hidden: 128\n",
      "wandb: \tspec: rand\n"
     ]
    },
    {
     "data": {
      "text/html": [
       "\n",
       "                    Syncing run <strong><a href=\"https://wandb.ai/as1_dl/mnist/runs/5glqqryr\" target=\"_blank\">devoted-sweep-9</a></strong> to <a href=\"https://wandb.ai/as1_dl/mnist\" target=\"_blank\">Weights & Biases</a> (<a href=\"https://docs.wandb.com/integrations/jupyter.html\" target=\"_blank\">docs</a>).<br/>\n",
       "Sweep page: <a href=\"https://wandb.ai/as1_dl/mnist/sweeps/b0nwo1sq\" target=\"_blank\">https://wandb.ai/as1_dl/mnist/sweeps/b0nwo1sq</a><br/>\n",
       "\n",
       "                "
      ],
      "text/plain": [
       "<IPython.core.display.HTML object>"
      ]
     },
     "metadata": {},
     "output_type": "display_data"
    },
    {
     "data": {
      "text/html": [
       "<br/>Waiting for W&B process to finish, PID 21116... <strong style=\"color:green\">(success).</strong>"
      ],
      "text/plain": [
       "<IPython.core.display.HTML object>"
      ]
     },
     "metadata": {},
     "output_type": "display_data"
    },
    {
     "data": {
      "application/vnd.jupyter.widget-view+json": {
       "model_id": "",
       "version_major": 2,
       "version_minor": 0
      },
      "text/plain": [
       "VBox(children=(Label(value=' 0.00MB of 0.00MB uploaded (0.00MB deduped)\\r'), FloatProgress(value=1.0, max=1.0)…"
      ]
     },
     "metadata": {},
     "output_type": "display_data"
    },
    {
     "data": {
      "text/html": [
       "<style>\n",
       "    table.wandb td:nth-child(1) { padding: 0 10px; text-align: right }\n",
       "    .wandb-row { display: flex; flex-direction: row; flex-wrap: wrap; width: 100% }\n",
       "    .wandb-col { display: flex; flex-direction: column; flex-basis: 100%; flex: 1; padding: 10px; }\n",
       "    </style>\n",
       "<div class=\"wandb-row\"><div class=\"wandb-col\">\n",
       "<h3>Run history:</h3><br/><table class=\"wandb\"><tr><td>test accuracy</td><td>▁</td></tr></table><br/></div><div class=\"wandb-col\">\n",
       "<h3>Run summary:</h3><br/><table class=\"wandb\"><tr><td>test accuracy</td><td>0.969</td></tr></table>\n",
       "</div></div>\n",
       "Synced 5 W&B file(s), 0 media file(s), 0 artifact file(s) and 0 other file(s)\n",
       "<br/>Synced <strong style=\"color:#cdcd00\">devoted-sweep-9</strong>: <a href=\"https://wandb.ai/as1_dl/mnist/runs/5glqqryr\" target=\"_blank\">https://wandb.ai/as1_dl/mnist/runs/5glqqryr</a><br/>\n",
       "Find logs at: <code>.\\wandb\\run-20220224_220656-5glqqryr\\logs</code><br/>\n"
      ],
      "text/plain": [
       "<IPython.core.display.HTML object>"
      ]
     },
     "metadata": {},
     "output_type": "display_data"
    },
    {
     "name": "stderr",
     "output_type": "stream",
     "text": [
      "wandb: Agent Starting Run: usqp9uha with config:\n",
      "wandb: \tact_func: tanh\n",
      "wandb: \tbs: 32\n",
      "wandb: \tlam: 0.005\n",
      "wandb: \tlearn_algo: rmsprop\n",
      "wandb: \tlearning_rate: 0.001\n",
      "wandb: \tloss_func: cross_entropy\n",
      "wandb: \tmax_iterations: 10\n",
      "wandb: \tno_hidden: 4\n",
      "wandb: \tsize_hidden: 32\n",
      "wandb: \tspec: rand\n"
     ]
    },
    {
     "data": {
      "text/html": [
       "\n",
       "                    Syncing run <strong><a href=\"https://wandb.ai/as1_dl/mnist/runs/usqp9uha\" target=\"_blank\">quiet-sweep-10</a></strong> to <a href=\"https://wandb.ai/as1_dl/mnist\" target=\"_blank\">Weights & Biases</a> (<a href=\"https://docs.wandb.com/integrations/jupyter.html\" target=\"_blank\">docs</a>).<br/>\n",
       "Sweep page: <a href=\"https://wandb.ai/as1_dl/mnist/sweeps/b0nwo1sq\" target=\"_blank\">https://wandb.ai/as1_dl/mnist/sweeps/b0nwo1sq</a><br/>\n",
       "\n",
       "                "
      ],
      "text/plain": [
       "<IPython.core.display.HTML object>"
      ]
     },
     "metadata": {},
     "output_type": "display_data"
    },
    {
     "data": {
      "text/html": [
       "<br/>Waiting for W&B process to finish, PID 1924... <strong style=\"color:green\">(success).</strong>"
      ],
      "text/plain": [
       "<IPython.core.display.HTML object>"
      ]
     },
     "metadata": {},
     "output_type": "display_data"
    },
    {
     "data": {
      "application/vnd.jupyter.widget-view+json": {
       "model_id": "",
       "version_major": 2,
       "version_minor": 0
      },
      "text/plain": [
       "VBox(children=(Label(value=' 0.00MB of 0.00MB uploaded (0.00MB deduped)\\r'), FloatProgress(value=1.0, max=1.0)…"
      ]
     },
     "metadata": {},
     "output_type": "display_data"
    },
    {
     "data": {
      "text/html": [
       "<style>\n",
       "    table.wandb td:nth-child(1) { padding: 0 10px; text-align: right }\n",
       "    .wandb-row { display: flex; flex-direction: row; flex-wrap: wrap; width: 100% }\n",
       "    .wandb-col { display: flex; flex-direction: column; flex-basis: 100%; flex: 1; padding: 10px; }\n",
       "    </style>\n",
       "<div class=\"wandb-row\"><div class=\"wandb-col\">\n",
       "<h3>Run history:</h3><br/><table class=\"wandb\"><tr><td>test accuracy</td><td>▁</td></tr></table><br/></div><div class=\"wandb-col\">\n",
       "<h3>Run summary:</h3><br/><table class=\"wandb\"><tr><td>test accuracy</td><td>0.9578</td></tr></table>\n",
       "</div></div>\n",
       "Synced 5 W&B file(s), 0 media file(s), 0 artifact file(s) and 0 other file(s)\n",
       "<br/>Synced <strong style=\"color:#cdcd00\">quiet-sweep-10</strong>: <a href=\"https://wandb.ai/as1_dl/mnist/runs/usqp9uha\" target=\"_blank\">https://wandb.ai/as1_dl/mnist/runs/usqp9uha</a><br/>\n",
       "Find logs at: <code>.\\wandb\\run-20220224_220822-usqp9uha\\logs</code><br/>\n"
      ],
      "text/plain": [
       "<IPython.core.display.HTML object>"
      ]
     },
     "metadata": {},
     "output_type": "display_data"
    },
    {
     "name": "stderr",
     "output_type": "stream",
     "text": [
      "wandb: Sweep Agent: Waiting for job.\n",
      "wandb: Job received.\n",
      "wandb: Agent Starting Run: gbm3wkxy with config:\n",
      "wandb: \tact_func: tanh\n",
      "wandb: \tbs: 32\n",
      "wandb: \tlam: 0.005\n",
      "wandb: \tlearn_algo: rmsprop\n",
      "wandb: \tlearning_rate: 0.001\n",
      "wandb: \tloss_func: cross_entropy\n",
      "wandb: \tmax_iterations: 10\n",
      "wandb: \tno_hidden: 4\n",
      "wandb: \tsize_hidden: 64\n",
      "wandb: \tspec: rand\n"
     ]
    },
    {
     "data": {
      "text/html": [
       "\n",
       "                    Syncing run <strong><a href=\"https://wandb.ai/as1_dl/mnist/runs/gbm3wkxy\" target=\"_blank\">prime-sweep-11</a></strong> to <a href=\"https://wandb.ai/as1_dl/mnist\" target=\"_blank\">Weights & Biases</a> (<a href=\"https://docs.wandb.com/integrations/jupyter.html\" target=\"_blank\">docs</a>).<br/>\n",
       "Sweep page: <a href=\"https://wandb.ai/as1_dl/mnist/sweeps/b0nwo1sq\" target=\"_blank\">https://wandb.ai/as1_dl/mnist/sweeps/b0nwo1sq</a><br/>\n",
       "\n",
       "                "
      ],
      "text/plain": [
       "<IPython.core.display.HTML object>"
      ]
     },
     "metadata": {},
     "output_type": "display_data"
    },
    {
     "data": {
      "text/html": [
       "<br/>Waiting for W&B process to finish, PID 37228... <strong style=\"color:green\">(success).</strong>"
      ],
      "text/plain": [
       "<IPython.core.display.HTML object>"
      ]
     },
     "metadata": {},
     "output_type": "display_data"
    },
    {
     "data": {
      "application/vnd.jupyter.widget-view+json": {
       "model_id": "",
       "version_major": 2,
       "version_minor": 0
      },
      "text/plain": [
       "VBox(children=(Label(value=' 0.00MB of 0.00MB uploaded (0.00MB deduped)\\r'), FloatProgress(value=1.0, max=1.0)…"
      ]
     },
     "metadata": {},
     "output_type": "display_data"
    },
    {
     "data": {
      "text/html": [
       "<style>\n",
       "    table.wandb td:nth-child(1) { padding: 0 10px; text-align: right }\n",
       "    .wandb-row { display: flex; flex-direction: row; flex-wrap: wrap; width: 100% }\n",
       "    .wandb-col { display: flex; flex-direction: column; flex-basis: 100%; flex: 1; padding: 10px; }\n",
       "    </style>\n",
       "<div class=\"wandb-row\"><div class=\"wandb-col\">\n",
       "<h3>Run history:</h3><br/><table class=\"wandb\"><tr><td>test accuracy</td><td>▁</td></tr></table><br/></div><div class=\"wandb-col\">\n",
       "<h3>Run summary:</h3><br/><table class=\"wandb\"><tr><td>test accuracy</td><td>0.9547</td></tr></table>\n",
       "</div></div>\n",
       "Synced 5 W&B file(s), 0 media file(s), 0 artifact file(s) and 0 other file(s)\n",
       "<br/>Synced <strong style=\"color:#cdcd00\">prime-sweep-11</strong>: <a href=\"https://wandb.ai/as1_dl/mnist/runs/gbm3wkxy\" target=\"_blank\">https://wandb.ai/as1_dl/mnist/runs/gbm3wkxy</a><br/>\n",
       "Find logs at: <code>.\\wandb\\run-20220224_220915-gbm3wkxy\\logs</code><br/>\n"
      ],
      "text/plain": [
       "<IPython.core.display.HTML object>"
      ]
     },
     "metadata": {},
     "output_type": "display_data"
    },
    {
     "name": "stderr",
     "output_type": "stream",
     "text": [
      "wandb: Agent Starting Run: 9xovj5pr with config:\n",
      "wandb: \tact_func: tanh\n",
      "wandb: \tbs: 32\n",
      "wandb: \tlam: 0.005\n",
      "wandb: \tlearn_algo: rmsprop\n",
      "wandb: \tlearning_rate: 0.001\n",
      "wandb: \tloss_func: cross_entropy\n",
      "wandb: \tmax_iterations: 10\n",
      "wandb: \tno_hidden: 4\n",
      "wandb: \tsize_hidden: 128\n",
      "wandb: \tspec: rand\n"
     ]
    },
    {
     "data": {
      "text/html": [
       "\n",
       "                    Syncing run <strong><a href=\"https://wandb.ai/as1_dl/mnist/runs/9xovj5pr\" target=\"_blank\">restful-sweep-12</a></strong> to <a href=\"https://wandb.ai/as1_dl/mnist\" target=\"_blank\">Weights & Biases</a> (<a href=\"https://docs.wandb.com/integrations/jupyter.html\" target=\"_blank\">docs</a>).<br/>\n",
       "Sweep page: <a href=\"https://wandb.ai/as1_dl/mnist/sweeps/b0nwo1sq\" target=\"_blank\">https://wandb.ai/as1_dl/mnist/sweeps/b0nwo1sq</a><br/>\n",
       "\n",
       "                "
      ],
      "text/plain": [
       "<IPython.core.display.HTML object>"
      ]
     },
     "metadata": {},
     "output_type": "display_data"
    },
    {
     "data": {
      "text/html": [
       "<br/>Waiting for W&B process to finish, PID 7164... <strong style=\"color:green\">(success).</strong>"
      ],
      "text/plain": [
       "<IPython.core.display.HTML object>"
      ]
     },
     "metadata": {},
     "output_type": "display_data"
    },
    {
     "data": {
      "application/vnd.jupyter.widget-view+json": {
       "model_id": "",
       "version_major": 2,
       "version_minor": 0
      },
      "text/plain": [
       "VBox(children=(Label(value=' 0.00MB of 0.00MB uploaded (0.00MB deduped)\\r'), FloatProgress(value=1.0, max=1.0)…"
      ]
     },
     "metadata": {},
     "output_type": "display_data"
    },
    {
     "data": {
      "text/html": [
       "<style>\n",
       "    table.wandb td:nth-child(1) { padding: 0 10px; text-align: right }\n",
       "    .wandb-row { display: flex; flex-direction: row; flex-wrap: wrap; width: 100% }\n",
       "    .wandb-col { display: flex; flex-direction: column; flex-basis: 100%; flex: 1; padding: 10px; }\n",
       "    </style>\n",
       "<div class=\"wandb-row\"><div class=\"wandb-col\">\n",
       "<h3>Run history:</h3><br/><table class=\"wandb\"><tr><td>test accuracy</td><td>▁</td></tr></table><br/></div><div class=\"wandb-col\">\n",
       "<h3>Run summary:</h3><br/><table class=\"wandb\"><tr><td>test accuracy</td><td>0.9595</td></tr></table>\n",
       "</div></div>\n",
       "Synced 5 W&B file(s), 0 media file(s), 0 artifact file(s) and 0 other file(s)\n",
       "<br/>Synced <strong style=\"color:#cdcd00\">restful-sweep-12</strong>: <a href=\"https://wandb.ai/as1_dl/mnist/runs/9xovj5pr\" target=\"_blank\">https://wandb.ai/as1_dl/mnist/runs/9xovj5pr</a><br/>\n",
       "Find logs at: <code>.\\wandb\\run-20220224_221016-9xovj5pr\\logs</code><br/>\n"
      ],
      "text/plain": [
       "<IPython.core.display.HTML object>"
      ]
     },
     "metadata": {},
     "output_type": "display_data"
    },
    {
     "name": "stderr",
     "output_type": "stream",
     "text": [
      "wandb: Sweep Agent: Waiting for job.\n",
      "wandb: Job received.\n",
      "wandb: Agent Starting Run: slyy8p0d with config:\n",
      "wandb: \tact_func: tanh\n",
      "wandb: \tbs: 32\n",
      "wandb: \tlam: 0.005\n",
      "wandb: \tlearn_algo: adam\n",
      "wandb: \tlearning_rate: 0.001\n",
      "wandb: \tloss_func: cross_entropy\n",
      "wandb: \tmax_iterations: 10\n",
      "wandb: \tno_hidden: 3\n",
      "wandb: \tsize_hidden: 32\n",
      "wandb: \tspec: rand\n"
     ]
    },
    {
     "data": {
      "text/html": [
       "\n",
       "                    Syncing run <strong><a href=\"https://wandb.ai/as1_dl/mnist/runs/slyy8p0d\" target=\"_blank\">expert-sweep-13</a></strong> to <a href=\"https://wandb.ai/as1_dl/mnist\" target=\"_blank\">Weights & Biases</a> (<a href=\"https://docs.wandb.com/integrations/jupyter.html\" target=\"_blank\">docs</a>).<br/>\n",
       "Sweep page: <a href=\"https://wandb.ai/as1_dl/mnist/sweeps/b0nwo1sq\" target=\"_blank\">https://wandb.ai/as1_dl/mnist/sweeps/b0nwo1sq</a><br/>\n",
       "\n",
       "                "
      ],
      "text/plain": [
       "<IPython.core.display.HTML object>"
      ]
     },
     "metadata": {},
     "output_type": "display_data"
    },
    {
     "data": {
      "text/html": [
       "<br/>Waiting for W&B process to finish, PID 6028... <strong style=\"color:green\">(success).</strong>"
      ],
      "text/plain": [
       "<IPython.core.display.HTML object>"
      ]
     },
     "metadata": {},
     "output_type": "display_data"
    },
    {
     "data": {
      "application/vnd.jupyter.widget-view+json": {
       "model_id": "",
       "version_major": 2,
       "version_minor": 0
      },
      "text/plain": [
       "VBox(children=(Label(value=' 0.00MB of 0.00MB uploaded (0.00MB deduped)\\r'), FloatProgress(value=1.0, max=1.0)…"
      ]
     },
     "metadata": {},
     "output_type": "display_data"
    },
    {
     "data": {
      "text/html": [
       "<style>\n",
       "    table.wandb td:nth-child(1) { padding: 0 10px; text-align: right }\n",
       "    .wandb-row { display: flex; flex-direction: row; flex-wrap: wrap; width: 100% }\n",
       "    .wandb-col { display: flex; flex-direction: column; flex-basis: 100%; flex: 1; padding: 10px; }\n",
       "    </style>\n",
       "<div class=\"wandb-row\"><div class=\"wandb-col\">\n",
       "<h3>Run history:</h3><br/><table class=\"wandb\"><tr><td>test accuracy</td><td>▁</td></tr></table><br/></div><div class=\"wandb-col\">\n",
       "<h3>Run summary:</h3><br/><table class=\"wandb\"><tr><td>test accuracy</td><td>0.9583</td></tr></table>\n",
       "</div></div>\n",
       "Synced 5 W&B file(s), 0 media file(s), 0 artifact file(s) and 0 other file(s)\n",
       "<br/>Synced <strong style=\"color:#cdcd00\">expert-sweep-13</strong>: <a href=\"https://wandb.ai/as1_dl/mnist/runs/slyy8p0d\" target=\"_blank\">https://wandb.ai/as1_dl/mnist/runs/slyy8p0d</a><br/>\n",
       "Find logs at: <code>.\\wandb\\run-20220224_221157-slyy8p0d\\logs</code><br/>\n"
      ],
      "text/plain": [
       "<IPython.core.display.HTML object>"
      ]
     },
     "metadata": {},
     "output_type": "display_data"
    },
    {
     "name": "stderr",
     "output_type": "stream",
     "text": [
      "wandb: Sweep Agent: Waiting for job.\n",
      "wandb: Job received.\n",
      "wandb: Agent Starting Run: b280haw9 with config:\n",
      "wandb: \tact_func: tanh\n",
      "wandb: \tbs: 32\n",
      "wandb: \tlam: 0.005\n",
      "wandb: \tlearn_algo: adam\n",
      "wandb: \tlearning_rate: 0.001\n",
      "wandb: \tloss_func: cross_entropy\n",
      "wandb: \tmax_iterations: 10\n",
      "wandb: \tno_hidden: 3\n",
      "wandb: \tsize_hidden: 64\n",
      "wandb: \tspec: rand\n"
     ]
    },
    {
     "data": {
      "text/html": [
       "\n",
       "                    Syncing run <strong><a href=\"https://wandb.ai/as1_dl/mnist/runs/b280haw9\" target=\"_blank\">misunderstood-sweep-14</a></strong> to <a href=\"https://wandb.ai/as1_dl/mnist\" target=\"_blank\">Weights & Biases</a> (<a href=\"https://docs.wandb.com/integrations/jupyter.html\" target=\"_blank\">docs</a>).<br/>\n",
       "Sweep page: <a href=\"https://wandb.ai/as1_dl/mnist/sweeps/b0nwo1sq\" target=\"_blank\">https://wandb.ai/as1_dl/mnist/sweeps/b0nwo1sq</a><br/>\n",
       "\n",
       "                "
      ],
      "text/plain": [
       "<IPython.core.display.HTML object>"
      ]
     },
     "metadata": {},
     "output_type": "display_data"
    },
    {
     "data": {
      "text/html": [
       "<br/>Waiting for W&B process to finish, PID 8268... <strong style=\"color:green\">(success).</strong>"
      ],
      "text/plain": [
       "<IPython.core.display.HTML object>"
      ]
     },
     "metadata": {},
     "output_type": "display_data"
    },
    {
     "data": {
      "application/vnd.jupyter.widget-view+json": {
       "model_id": "",
       "version_major": 2,
       "version_minor": 0
      },
      "text/plain": [
       "VBox(children=(Label(value=' 0.00MB of 0.00MB uploaded (0.00MB deduped)\\r'), FloatProgress(value=1.0, max=1.0)…"
      ]
     },
     "metadata": {},
     "output_type": "display_data"
    },
    {
     "data": {
      "text/html": [
       "<style>\n",
       "    table.wandb td:nth-child(1) { padding: 0 10px; text-align: right }\n",
       "    .wandb-row { display: flex; flex-direction: row; flex-wrap: wrap; width: 100% }\n",
       "    .wandb-col { display: flex; flex-direction: column; flex-basis: 100%; flex: 1; padding: 10px; }\n",
       "    </style>\n",
       "<div class=\"wandb-row\"><div class=\"wandb-col\">\n",
       "<h3>Run history:</h3><br/><table class=\"wandb\"><tr><td>test accuracy</td><td>▁</td></tr></table><br/></div><div class=\"wandb-col\">\n",
       "<h3>Run summary:</h3><br/><table class=\"wandb\"><tr><td>test accuracy</td><td>0.9695</td></tr></table>\n",
       "</div></div>\n",
       "Synced 5 W&B file(s), 0 media file(s), 0 artifact file(s) and 0 other file(s)\n",
       "<br/>Synced <strong style=\"color:#cdcd00\">misunderstood-sweep-14</strong>: <a href=\"https://wandb.ai/as1_dl/mnist/runs/b280haw9\" target=\"_blank\">https://wandb.ai/as1_dl/mnist/runs/b280haw9</a><br/>\n",
       "Find logs at: <code>.\\wandb\\run-20220224_221251-b280haw9\\logs</code><br/>\n"
      ],
      "text/plain": [
       "<IPython.core.display.HTML object>"
      ]
     },
     "metadata": {},
     "output_type": "display_data"
    },
    {
     "name": "stderr",
     "output_type": "stream",
     "text": [
      "wandb: Agent Starting Run: pwu1qrtw with config:\n",
      "wandb: \tact_func: tanh\n",
      "wandb: \tbs: 32\n",
      "wandb: \tlam: 0.005\n",
      "wandb: \tlearn_algo: adam\n",
      "wandb: \tlearning_rate: 0.001\n",
      "wandb: \tloss_func: cross_entropy\n",
      "wandb: \tmax_iterations: 10\n",
      "wandb: \tno_hidden: 3\n",
      "wandb: \tsize_hidden: 128\n",
      "wandb: \tspec: rand\n"
     ]
    },
    {
     "data": {
      "text/html": [
       "\n",
       "                    Syncing run <strong><a href=\"https://wandb.ai/as1_dl/mnist/runs/pwu1qrtw\" target=\"_blank\">twilight-sweep-15</a></strong> to <a href=\"https://wandb.ai/as1_dl/mnist\" target=\"_blank\">Weights & Biases</a> (<a href=\"https://docs.wandb.com/integrations/jupyter.html\" target=\"_blank\">docs</a>).<br/>\n",
       "Sweep page: <a href=\"https://wandb.ai/as1_dl/mnist/sweeps/b0nwo1sq\" target=\"_blank\">https://wandb.ai/as1_dl/mnist/sweeps/b0nwo1sq</a><br/>\n",
       "\n",
       "                "
      ],
      "text/plain": [
       "<IPython.core.display.HTML object>"
      ]
     },
     "metadata": {},
     "output_type": "display_data"
    },
    {
     "data": {
      "text/html": [
       "<br/>Waiting for W&B process to finish, PID 36940... <strong style=\"color:green\">(success).</strong>"
      ],
      "text/plain": [
       "<IPython.core.display.HTML object>"
      ]
     },
     "metadata": {},
     "output_type": "display_data"
    },
    {
     "data": {
      "application/vnd.jupyter.widget-view+json": {
       "model_id": "",
       "version_major": 2,
       "version_minor": 0
      },
      "text/plain": [
       "VBox(children=(Label(value=' 0.00MB of 0.00MB uploaded (0.00MB deduped)\\r'), FloatProgress(value=1.0, max=1.0)…"
      ]
     },
     "metadata": {},
     "output_type": "display_data"
    },
    {
     "data": {
      "text/html": [
       "<style>\n",
       "    table.wandb td:nth-child(1) { padding: 0 10px; text-align: right }\n",
       "    .wandb-row { display: flex; flex-direction: row; flex-wrap: wrap; width: 100% }\n",
       "    .wandb-col { display: flex; flex-direction: column; flex-basis: 100%; flex: 1; padding: 10px; }\n",
       "    </style>\n",
       "<div class=\"wandb-row\"><div class=\"wandb-col\">\n",
       "<h3>Run history:</h3><br/><table class=\"wandb\"><tr><td>test accuracy</td><td>▁</td></tr></table><br/></div><div class=\"wandb-col\">\n",
       "<h3>Run summary:</h3><br/><table class=\"wandb\"><tr><td>test accuracy</td><td>0.9723</td></tr></table>\n",
       "</div></div>\n",
       "Synced 5 W&B file(s), 0 media file(s), 0 artifact file(s) and 0 other file(s)\n",
       "<br/>Synced <strong style=\"color:#cdcd00\">twilight-sweep-15</strong>: <a href=\"https://wandb.ai/as1_dl/mnist/runs/pwu1qrtw\" target=\"_blank\">https://wandb.ai/as1_dl/mnist/runs/pwu1qrtw</a><br/>\n",
       "Find logs at: <code>.\\wandb\\run-20220224_221351-pwu1qrtw\\logs</code><br/>\n"
      ],
      "text/plain": [
       "<IPython.core.display.HTML object>"
      ]
     },
     "metadata": {},
     "output_type": "display_data"
    },
    {
     "name": "stderr",
     "output_type": "stream",
     "text": [
      "wandb: Agent Starting Run: 9cuoa0xz with config:\n",
      "wandb: \tact_func: tanh\n",
      "wandb: \tbs: 32\n",
      "wandb: \tlam: 0.005\n",
      "wandb: \tlearn_algo: adam\n",
      "wandb: \tlearning_rate: 0.001\n",
      "wandb: \tloss_func: cross_entropy\n",
      "wandb: \tmax_iterations: 10\n",
      "wandb: \tno_hidden: 4\n",
      "wandb: \tsize_hidden: 32\n",
      "wandb: \tspec: rand\n"
     ]
    },
    {
     "data": {
      "text/html": [
       "\n",
       "                    Syncing run <strong><a href=\"https://wandb.ai/as1_dl/mnist/runs/9cuoa0xz\" target=\"_blank\">earnest-sweep-16</a></strong> to <a href=\"https://wandb.ai/as1_dl/mnist\" target=\"_blank\">Weights & Biases</a> (<a href=\"https://docs.wandb.com/integrations/jupyter.html\" target=\"_blank\">docs</a>).<br/>\n",
       "Sweep page: <a href=\"https://wandb.ai/as1_dl/mnist/sweeps/b0nwo1sq\" target=\"_blank\">https://wandb.ai/as1_dl/mnist/sweeps/b0nwo1sq</a><br/>\n",
       "\n",
       "                "
      ],
      "text/plain": [
       "<IPython.core.display.HTML object>"
      ]
     },
     "metadata": {},
     "output_type": "display_data"
    },
    {
     "data": {
      "text/html": [
       "<br/>Waiting for W&B process to finish, PID 840... <strong style=\"color:green\">(success).</strong>"
      ],
      "text/plain": [
       "<IPython.core.display.HTML object>"
      ]
     },
     "metadata": {},
     "output_type": "display_data"
    },
    {
     "data": {
      "application/vnd.jupyter.widget-view+json": {
       "model_id": "",
       "version_major": 2,
       "version_minor": 0
      },
      "text/plain": [
       "VBox(children=(Label(value=' 0.00MB of 0.00MB uploaded (0.00MB deduped)\\r'), FloatProgress(value=1.0, max=1.0)…"
      ]
     },
     "metadata": {},
     "output_type": "display_data"
    },
    {
     "data": {
      "text/html": [
       "<style>\n",
       "    table.wandb td:nth-child(1) { padding: 0 10px; text-align: right }\n",
       "    .wandb-row { display: flex; flex-direction: row; flex-wrap: wrap; width: 100% }\n",
       "    .wandb-col { display: flex; flex-direction: column; flex-basis: 100%; flex: 1; padding: 10px; }\n",
       "    </style>\n",
       "<div class=\"wandb-row\"><div class=\"wandb-col\">\n",
       "<h3>Run history:</h3><br/><table class=\"wandb\"><tr><td>test accuracy</td><td>▁</td></tr></table><br/></div><div class=\"wandb-col\">\n",
       "<h3>Run summary:</h3><br/><table class=\"wandb\"><tr><td>test accuracy</td><td>0.9485</td></tr></table>\n",
       "</div></div>\n",
       "Synced 5 W&B file(s), 0 media file(s), 0 artifact file(s) and 0 other file(s)\n",
       "<br/>Synced <strong style=\"color:#cdcd00\">earnest-sweep-16</strong>: <a href=\"https://wandb.ai/as1_dl/mnist/runs/9cuoa0xz\" target=\"_blank\">https://wandb.ai/as1_dl/mnist/runs/9cuoa0xz</a><br/>\n",
       "Find logs at: <code>.\\wandb\\run-20220224_221533-9cuoa0xz\\logs</code><br/>\n"
      ],
      "text/plain": [
       "<IPython.core.display.HTML object>"
      ]
     },
     "metadata": {},
     "output_type": "display_data"
    },
    {
     "name": "stderr",
     "output_type": "stream",
     "text": [
      "wandb: Agent Starting Run: jfd3db4z with config:\n",
      "wandb: \tact_func: tanh\n",
      "wandb: \tbs: 32\n",
      "wandb: \tlam: 0.005\n",
      "wandb: \tlearn_algo: adam\n",
      "wandb: \tlearning_rate: 0.001\n",
      "wandb: \tloss_func: cross_entropy\n",
      "wandb: \tmax_iterations: 10\n",
      "wandb: \tno_hidden: 4\n",
      "wandb: \tsize_hidden: 64\n",
      "wandb: \tspec: rand\n"
     ]
    },
    {
     "data": {
      "text/html": [
       "\n",
       "                    Syncing run <strong><a href=\"https://wandb.ai/as1_dl/mnist/runs/jfd3db4z\" target=\"_blank\">lunar-sweep-17</a></strong> to <a href=\"https://wandb.ai/as1_dl/mnist\" target=\"_blank\">Weights & Biases</a> (<a href=\"https://docs.wandb.com/integrations/jupyter.html\" target=\"_blank\">docs</a>).<br/>\n",
       "Sweep page: <a href=\"https://wandb.ai/as1_dl/mnist/sweeps/b0nwo1sq\" target=\"_blank\">https://wandb.ai/as1_dl/mnist/sweeps/b0nwo1sq</a><br/>\n",
       "\n",
       "                "
      ],
      "text/plain": [
       "<IPython.core.display.HTML object>"
      ]
     },
     "metadata": {},
     "output_type": "display_data"
    },
    {
     "data": {
      "text/html": [
       "<br/>Waiting for W&B process to finish, PID 37352... <strong style=\"color:green\">(success).</strong>"
      ],
      "text/plain": [
       "<IPython.core.display.HTML object>"
      ]
     },
     "metadata": {},
     "output_type": "display_data"
    },
    {
     "data": {
      "application/vnd.jupyter.widget-view+json": {
       "model_id": "",
       "version_major": 2,
       "version_minor": 0
      },
      "text/plain": [
       "VBox(children=(Label(value=' 0.00MB of 0.00MB uploaded (0.00MB deduped)\\r'), FloatProgress(value=1.0, max=1.0)…"
      ]
     },
     "metadata": {},
     "output_type": "display_data"
    },
    {
     "data": {
      "text/html": [
       "<style>\n",
       "    table.wandb td:nth-child(1) { padding: 0 10px; text-align: right }\n",
       "    .wandb-row { display: flex; flex-direction: row; flex-wrap: wrap; width: 100% }\n",
       "    .wandb-col { display: flex; flex-direction: column; flex-basis: 100%; flex: 1; padding: 10px; }\n",
       "    </style>\n",
       "<div class=\"wandb-row\"><div class=\"wandb-col\">\n",
       "<h3>Run history:</h3><br/><table class=\"wandb\"><tr><td>test accuracy</td><td>▁</td></tr></table><br/></div><div class=\"wandb-col\">\n",
       "<h3>Run summary:</h3><br/><table class=\"wandb\"><tr><td>test accuracy</td><td>0.9534</td></tr></table>\n",
       "</div></div>\n",
       "Synced 5 W&B file(s), 0 media file(s), 0 artifact file(s) and 0 other file(s)\n",
       "<br/>Synced <strong style=\"color:#cdcd00\">lunar-sweep-17</strong>: <a href=\"https://wandb.ai/as1_dl/mnist/runs/jfd3db4z\" target=\"_blank\">https://wandb.ai/as1_dl/mnist/runs/jfd3db4z</a><br/>\n",
       "Find logs at: <code>.\\wandb\\run-20220224_221622-jfd3db4z\\logs</code><br/>\n"
      ],
      "text/plain": [
       "<IPython.core.display.HTML object>"
      ]
     },
     "metadata": {},
     "output_type": "display_data"
    },
    {
     "name": "stderr",
     "output_type": "stream",
     "text": [
      "wandb: Agent Starting Run: p1b0v0cn with config:\n",
      "wandb: \tact_func: tanh\n",
      "wandb: \tbs: 32\n",
      "wandb: \tlam: 0.005\n",
      "wandb: \tlearn_algo: adam\n",
      "wandb: \tlearning_rate: 0.001\n",
      "wandb: \tloss_func: cross_entropy\n",
      "wandb: \tmax_iterations: 10\n",
      "wandb: \tno_hidden: 4\n",
      "wandb: \tsize_hidden: 128\n",
      "wandb: \tspec: rand\n"
     ]
    },
    {
     "data": {
      "text/html": [
       "\n",
       "                    Syncing run <strong><a href=\"https://wandb.ai/as1_dl/mnist/runs/p1b0v0cn\" target=\"_blank\">zany-sweep-18</a></strong> to <a href=\"https://wandb.ai/as1_dl/mnist\" target=\"_blank\">Weights & Biases</a> (<a href=\"https://docs.wandb.com/integrations/jupyter.html\" target=\"_blank\">docs</a>).<br/>\n",
       "Sweep page: <a href=\"https://wandb.ai/as1_dl/mnist/sweeps/b0nwo1sq\" target=\"_blank\">https://wandb.ai/as1_dl/mnist/sweeps/b0nwo1sq</a><br/>\n",
       "\n",
       "                "
      ],
      "text/plain": [
       "<IPython.core.display.HTML object>"
      ]
     },
     "metadata": {},
     "output_type": "display_data"
    },
    {
     "data": {
      "text/html": [
       "<br/>Waiting for W&B process to finish, PID 38520... <strong style=\"color:green\">(success).</strong>"
      ],
      "text/plain": [
       "<IPython.core.display.HTML object>"
      ]
     },
     "metadata": {},
     "output_type": "display_data"
    },
    {
     "data": {
      "application/vnd.jupyter.widget-view+json": {
       "model_id": "",
       "version_major": 2,
       "version_minor": 0
      },
      "text/plain": [
       "VBox(children=(Label(value=' 0.00MB of 0.00MB uploaded (0.00MB deduped)\\r'), FloatProgress(value=1.0, max=1.0)…"
      ]
     },
     "metadata": {},
     "output_type": "display_data"
    },
    {
     "data": {
      "text/html": [
       "<style>\n",
       "    table.wandb td:nth-child(1) { padding: 0 10px; text-align: right }\n",
       "    .wandb-row { display: flex; flex-direction: row; flex-wrap: wrap; width: 100% }\n",
       "    .wandb-col { display: flex; flex-direction: column; flex-basis: 100%; flex: 1; padding: 10px; }\n",
       "    </style>\n",
       "<div class=\"wandb-row\"><div class=\"wandb-col\">\n",
       "<h3>Run history:</h3><br/><table class=\"wandb\"><tr><td>test accuracy</td><td>▁</td></tr></table><br/></div><div class=\"wandb-col\">\n",
       "<h3>Run summary:</h3><br/><table class=\"wandb\"><tr><td>test accuracy</td><td>0.9703</td></tr></table>\n",
       "</div></div>\n",
       "Synced 5 W&B file(s), 0 media file(s), 0 artifact file(s) and 0 other file(s)\n",
       "<br/>Synced <strong style=\"color:#cdcd00\">zany-sweep-18</strong>: <a href=\"https://wandb.ai/as1_dl/mnist/runs/p1b0v0cn\" target=\"_blank\">https://wandb.ai/as1_dl/mnist/runs/p1b0v0cn</a><br/>\n",
       "Find logs at: <code>.\\wandb\\run-20220224_221727-p1b0v0cn\\logs</code><br/>\n"
      ],
      "text/plain": [
       "<IPython.core.display.HTML object>"
      ]
     },
     "metadata": {},
     "output_type": "display_data"
    },
    {
     "name": "stderr",
     "output_type": "stream",
     "text": [
      "wandb: Agent Starting Run: w7j7n9du with config:\n",
      "wandb: \tact_func: tanh\n",
      "wandb: \tbs: 32\n",
      "wandb: \tlam: 0.0005\n",
      "wandb: \tlearn_algo: nadam\n",
      "wandb: \tlearning_rate: 0.001\n",
      "wandb: \tloss_func: cross_entropy\n",
      "wandb: \tmax_iterations: 10\n",
      "wandb: \tno_hidden: 3\n",
      "wandb: \tsize_hidden: 32\n",
      "wandb: \tspec: rand\n"
     ]
    },
    {
     "data": {
      "text/html": [
       "\n",
       "                    Syncing run <strong><a href=\"https://wandb.ai/as1_dl/mnist/runs/w7j7n9du\" target=\"_blank\">visionary-sweep-19</a></strong> to <a href=\"https://wandb.ai/as1_dl/mnist\" target=\"_blank\">Weights & Biases</a> (<a href=\"https://docs.wandb.com/integrations/jupyter.html\" target=\"_blank\">docs</a>).<br/>\n",
       "Sweep page: <a href=\"https://wandb.ai/as1_dl/mnist/sweeps/b0nwo1sq\" target=\"_blank\">https://wandb.ai/as1_dl/mnist/sweeps/b0nwo1sq</a><br/>\n",
       "\n",
       "                "
      ],
      "text/plain": [
       "<IPython.core.display.HTML object>"
      ]
     },
     "metadata": {},
     "output_type": "display_data"
    },
    {
     "data": {
      "text/html": [
       "<br/>Waiting for W&B process to finish, PID 6868... <strong style=\"color:green\">(success).</strong>"
      ],
      "text/plain": [
       "<IPython.core.display.HTML object>"
      ]
     },
     "metadata": {},
     "output_type": "display_data"
    },
    {
     "data": {
      "application/vnd.jupyter.widget-view+json": {
       "model_id": "",
       "version_major": 2,
       "version_minor": 0
      },
      "text/plain": [
       "VBox(children=(Label(value=' 0.00MB of 0.00MB uploaded (0.00MB deduped)\\r'), FloatProgress(value=1.0, max=1.0)…"
      ]
     },
     "metadata": {},
     "output_type": "display_data"
    },
    {
     "data": {
      "text/html": [
       "<style>\n",
       "    table.wandb td:nth-child(1) { padding: 0 10px; text-align: right }\n",
       "    .wandb-row { display: flex; flex-direction: row; flex-wrap: wrap; width: 100% }\n",
       "    .wandb-col { display: flex; flex-direction: column; flex-basis: 100%; flex: 1; padding: 10px; }\n",
       "    </style>\n",
       "<div class=\"wandb-row\"><div class=\"wandb-col\">\n",
       "<h3>Run history:</h3><br/><table class=\"wandb\"><tr><td>accuracy</td><td>▁▆▇▇▇█████</td></tr><tr><td>test accuracy</td><td>▁</td></tr><tr><td>val_accuracy</td><td>▁▆▇▇██████</td></tr></table><br/></div><div class=\"wandb-col\">\n",
       "<h3>Run summary:</h3><br/><table class=\"wandb\"><tr><td>accuracy</td><td>0.9766</td></tr><tr><td>test accuracy</td><td>0.9591</td></tr><tr><td>val_accuracy</td><td>0.9582</td></tr></table>\n",
       "</div></div>\n",
       "Synced 5 W&B file(s), 0 media file(s), 0 artifact file(s) and 0 other file(s)\n",
       "<br/>Synced <strong style=\"color:#cdcd00\">visionary-sweep-19</strong>: <a href=\"https://wandb.ai/as1_dl/mnist/runs/w7j7n9du\" target=\"_blank\">https://wandb.ai/as1_dl/mnist/runs/w7j7n9du</a><br/>\n",
       "Find logs at: <code>.\\wandb\\run-20220224_221920-w7j7n9du\\logs</code><br/>\n"
      ],
      "text/plain": [
       "<IPython.core.display.HTML object>"
      ]
     },
     "metadata": {},
     "output_type": "display_data"
    },
    {
     "name": "stderr",
     "output_type": "stream",
     "text": [
      "wandb: Agent Starting Run: bk0nsf0u with config:\n",
      "wandb: \tact_func: tanh\n",
      "wandb: \tbs: 32\n",
      "wandb: \tlam: 0.0005\n",
      "wandb: \tlearn_algo: nadam\n",
      "wandb: \tlearning_rate: 0.001\n",
      "wandb: \tloss_func: cross_entropy\n",
      "wandb: \tmax_iterations: 10\n",
      "wandb: \tno_hidden: 3\n",
      "wandb: \tsize_hidden: 64\n",
      "wandb: \tspec: rand\n"
     ]
    },
    {
     "data": {
      "text/html": [
       "\n",
       "                    Syncing run <strong><a href=\"https://wandb.ai/as1_dl/mnist/runs/bk0nsf0u\" target=\"_blank\">cool-sweep-20</a></strong> to <a href=\"https://wandb.ai/as1_dl/mnist\" target=\"_blank\">Weights & Biases</a> (<a href=\"https://docs.wandb.com/integrations/jupyter.html\" target=\"_blank\">docs</a>).<br/>\n",
       "Sweep page: <a href=\"https://wandb.ai/as1_dl/mnist/sweeps/b0nwo1sq\" target=\"_blank\">https://wandb.ai/as1_dl/mnist/sweeps/b0nwo1sq</a><br/>\n",
       "\n",
       "                "
      ],
      "text/plain": [
       "<IPython.core.display.HTML object>"
      ]
     },
     "metadata": {},
     "output_type": "display_data"
    },
    {
     "data": {
      "text/html": [
       "<br/>Waiting for W&B process to finish, PID 468... <strong style=\"color:green\">(success).</strong>"
      ],
      "text/plain": [
       "<IPython.core.display.HTML object>"
      ]
     },
     "metadata": {},
     "output_type": "display_data"
    },
    {
     "data": {
      "application/vnd.jupyter.widget-view+json": {
       "model_id": "",
       "version_major": 2,
       "version_minor": 0
      },
      "text/plain": [
       "VBox(children=(Label(value=' 0.00MB of 0.00MB uploaded (0.00MB deduped)\\r'), FloatProgress(value=1.0, max=1.0)…"
      ]
     },
     "metadata": {},
     "output_type": "display_data"
    },
    {
     "data": {
      "text/html": [
       "<style>\n",
       "    table.wandb td:nth-child(1) { padding: 0 10px; text-align: right }\n",
       "    .wandb-row { display: flex; flex-direction: row; flex-wrap: wrap; width: 100% }\n",
       "    .wandb-col { display: flex; flex-direction: column; flex-basis: 100%; flex: 1; padding: 10px; }\n",
       "    </style>\n",
       "<div class=\"wandb-row\"><div class=\"wandb-col\">\n",
       "<h3>Run history:</h3><br/><table class=\"wandb\"><tr><td>accuracy</td><td>▁▅▆▇▇▇████</td></tr><tr><td>test accuracy</td><td>▁</td></tr><tr><td>val_accuracy</td><td>▁▅▇▇▇█████</td></tr></table><br/></div><div class=\"wandb-col\">\n",
       "<h3>Run summary:</h3><br/><table class=\"wandb\"><tr><td>accuracy</td><td>0.9867</td></tr><tr><td>test accuracy</td><td>0.9684</td></tr><tr><td>val_accuracy</td><td>0.9685</td></tr></table>\n",
       "</div></div>\n",
       "Synced 5 W&B file(s), 0 media file(s), 0 artifact file(s) and 0 other file(s)\n",
       "<br/>Synced <strong style=\"color:#cdcd00\">cool-sweep-20</strong>: <a href=\"https://wandb.ai/as1_dl/mnist/runs/bk0nsf0u\" target=\"_blank\">https://wandb.ai/as1_dl/mnist/runs/bk0nsf0u</a><br/>\n",
       "Find logs at: <code>.\\wandb\\run-20220224_222009-bk0nsf0u\\logs</code><br/>\n"
      ],
      "text/plain": [
       "<IPython.core.display.HTML object>"
      ]
     },
     "metadata": {},
     "output_type": "display_data"
    }
   ],
   "source": [
    "def train2(config=None): #function that is used by wandb agent to call the training model and perform the sweep\n",
    "    with wandb.init(config=config):  # this gets over-written in the Sweep\n",
    "        size_hidden=[]\n",
    "        config = wandb.config\n",
    "        no_hidden=config.no_hidden\n",
    "        #no_hidden=4\n",
    "        for i in range(no_hidden): #loop to initialise each layer with the same number of neurons. This is done only for the sweep. Normally different neurons can also be precribed\n",
    "            size_hidden.append(config.size_hidden)\n",
    "    \n",
    "        max_iterations=config.max_iterations \n",
    "        bs=config.bs\n",
    "        learning_rate=config.learning_rate\n",
    "        learn_algo=config.learn_algo\n",
    "        lam=config.lam\n",
    "        spec=config.spec\n",
    "        act_func=config.act_func\n",
    "        loss_func=config.loss_func\n",
    "        train_model(no_hidden,size_hidden,bs,max_iterations,learning_rate,learn_algo,lam,spec,act_func,loss_func) #obtains the cross validation accuracy score\n",
    "        #wandb.log({\"Accuracy\":acc}) #stores the score for each parameter search\n",
    "\n",
    "wandb.agent(sweep_id, function=train2,count=20)"
   ]
  },
  {
   "cell_type": "code",
   "execution_count": 114,
   "id": "e0199710",
   "metadata": {},
   "outputs": [],
   "source": [
    "def test_model_cf(w,b,x_test,y_test,y_test_enc,act_func,no_hidden,loss_func,lam):  #obtain the confusion matrix\n",
    "    wandb.init(project='confusion matrix')\n",
    "    an=[]\n",
    "    hn=[]\n",
    "    hn.append(x_test.T)\n",
    "    class_name=['T-shirt/top','Trouser','Pullover','Dress','Coat','Sandal','Shirt','Sneaker','Bag','Ankle boot']\n",
    "    for i in range(no_hidden):\n",
    "        an.append(np.dot(w[i],hn[i])+b[i])\n",
    "        hn.append(activ_func(an[i],act_func))\n",
    "    a_fn=np.dot(w[no_hidden],hn[no_hidden])+b[no_hidden]\n",
    "    y_pred1=func_softmax(a_fn)\n",
    "    y_final=np.empty(x_test.shape[0])\n",
    "    for i in range(x_test.shape[0]):\n",
    "        y_final[i]=y_pred1[i].argmax()\n",
    "    #loss= compute_loss(y_pred1,y_test_enc,w,loss_func,lam)\n",
    "    wandb.log({\"conf_mat\" : wandb.plot.confusion_matrix(probs=None,preds=y_final,y_true=y_test,class_names=class_name)})"
   ]
  }
 ],
 "metadata": {
  "kernelspec": {
   "display_name": "Python 3",
   "language": "python",
   "name": "python3"
  },
  "language_info": {
   "codemirror_mode": {
    "name": "ipython",
    "version": 3
   },
   "file_extension": ".py",
   "mimetype": "text/x-python",
   "name": "python",
   "nbconvert_exporter": "python",
   "pygments_lexer": "ipython3",
   "version": "3.8.8"
  }
 },
 "nbformat": 4,
 "nbformat_minor": 5
}
